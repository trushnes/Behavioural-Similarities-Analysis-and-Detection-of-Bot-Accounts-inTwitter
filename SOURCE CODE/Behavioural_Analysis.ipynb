{
  "nbformat": 4,
  "nbformat_minor": 0,
  "metadata": {
    "colab": {
      "name": "IT752-Notebook-II.ipynb",
      "provenance": [],
      "collapsed_sections": [
        "O7Hy8vFlAHIi",
        "ygKpaox0APSr",
        "4KOGV_T4qOfo",
        "BZNUNnkp1BO0",
        "RJeRFBEouLEZ",
        "LZ2UtCKng_7S",
        "7gNtGc8E5cC1",
        "a6QgqjFY_Nfq",
        "9XvusyfTLIo3",
        "KdKGA1PphE8p",
        "JBditpw2yeiF"
      ]
    },
    "kernelspec": {
      "name": "python3",
      "display_name": "Python 3"
    },
    "language_info": {
      "name": "python"
    }
  },
  "cells": [
    {
      "cell_type": "markdown",
      "metadata": {
        "id": "l0dQSkqo_ukc"
      },
      "source": [
        "### **\"Behavioral similarities Analysis Among Twitter Users.\"**\n",
        "\n",
        "**Contributed by:**\n",
        "**1. Divyanshi Bhojak**\n",
        "**2. Tarushi Jat**\n",
        "\n",
        "---\n",
        "\n"
      ]
    },
    {
      "cell_type": "markdown",
      "metadata": {
        "id": "O7Hy8vFlAHIi"
      },
      "source": [
        "### **Necessary Import**"
      ]
    },
    {
      "cell_type": "code",
      "metadata": {
        "id": "c2bOnWneVdaB"
      },
      "source": [
        "import pandas as pd\n",
        "import numpy as np\n",
        "import matplotlib.pyplot as plt\n",
        "import seaborn as sns\n",
        "from scipy.optimize import curve_fit\n",
        "import scipy"
      ],
      "execution_count": null,
      "outputs": []
    },
    {
      "cell_type": "markdown",
      "metadata": {
        "id": "ygKpaox0APSr"
      },
      "source": [
        "### **Data Loading**"
      ]
    },
    {
      "cell_type": "code",
      "metadata": {
        "colab": {
          "base_uri": "https://localhost:8080/"
        },
        "id": "3xx5H0WG1PrM",
        "outputId": "c77711dc-489a-4161-bbcc-376e24f3d284"
      },
      "source": [
        "from google.colab import drive\n",
        "drive.mount('/content/drive')"
      ],
      "execution_count": null,
      "outputs": [
        {
          "output_type": "stream",
          "text": [
            "Drive already mounted at /content/drive; to attempt to forcibly remount, call drive.mount(\"/content/drive\", force_remount=True).\n"
          ],
          "name": "stdout"
        }
      ]
    },
    {
      "cell_type": "code",
      "metadata": {
        "id": "vVOim3d1WFqk"
      },
      "source": [
        "user_data = pd.read_csv(\"/content/drive/MyDrive/Projects/datasets_full.csv/genuine_accounts.csv/users.csv\")"
      ],
      "execution_count": null,
      "outputs": []
    },
    {
      "cell_type": "code",
      "metadata": {
        "id": "W_BlESMRWQEe"
      },
      "source": [
        "bot1_data = pd.read_csv(\"/content/drive/MyDrive/Projects/datasets_full.csv/social_spambots_1.csv/users.csv\")"
      ],
      "execution_count": null,
      "outputs": []
    },
    {
      "cell_type": "code",
      "metadata": {
        "id": "fgoyCLwIWUCH"
      },
      "source": [
        "bot2_data = pd.read_csv(\"/content/drive/MyDrive/Projects/datasets_full.csv/social_spambots_2.csv/users.csv\")"
      ],
      "execution_count": null,
      "outputs": []
    },
    {
      "cell_type": "code",
      "metadata": {
        "id": "czV7ieCZWUpu"
      },
      "source": [
        "bot3_data = pd.read_csv(\"/content/drive/MyDrive/Projects/datasets_full.csv/social_spambots_3.csv/users.csv\")"
      ],
      "execution_count": null,
      "outputs": []
    },
    {
      "cell_type": "code",
      "metadata": {
        "colab": {
          "base_uri": "https://localhost:8080/"
        },
        "id": "c7YdCr1fWo6i",
        "outputId": "543b11d7-56d7-4148-8e20-ead93be96c09"
      },
      "source": [
        "bot1_data.head(3)"
      ],
      "execution_count": null,
      "outputs": [
        {
          "output_type": "execute_result",
          "data": {
            "text/html": [
              "<div>\n",
              "<style scoped>\n",
              "    .dataframe tbody tr th:only-of-type {\n",
              "        vertical-align: middle;\n",
              "    }\n",
              "\n",
              "    .dataframe tbody tr th {\n",
              "        vertical-align: top;\n",
              "    }\n",
              "\n",
              "    .dataframe thead th {\n",
              "        text-align: right;\n",
              "    }\n",
              "</style>\n",
              "<table border=\"1\" class=\"dataframe\">\n",
              "  <thead>\n",
              "    <tr style=\"text-align: right;\">\n",
              "      <th></th>\n",
              "      <th>id</th>\n",
              "      <th>name</th>\n",
              "      <th>screen_name</th>\n",
              "      <th>statuses_count</th>\n",
              "      <th>followers_count</th>\n",
              "      <th>friends_count</th>\n",
              "      <th>favourites_count</th>\n",
              "      <th>listed_count</th>\n",
              "      <th>url</th>\n",
              "      <th>lang</th>\n",
              "      <th>time_zone</th>\n",
              "      <th>location</th>\n",
              "      <th>default_profile</th>\n",
              "      <th>default_profile_image</th>\n",
              "      <th>geo_enabled</th>\n",
              "      <th>profile_image_url</th>\n",
              "      <th>profile_banner_url</th>\n",
              "      <th>profile_use_background_image</th>\n",
              "      <th>profile_background_image_url_https</th>\n",
              "      <th>profile_text_color</th>\n",
              "      <th>profile_image_url_https</th>\n",
              "      <th>profile_sidebar_border_color</th>\n",
              "      <th>profile_background_tile</th>\n",
              "      <th>profile_sidebar_fill_color</th>\n",
              "      <th>profile_background_image_url</th>\n",
              "      <th>profile_background_color</th>\n",
              "      <th>profile_link_color</th>\n",
              "      <th>utc_offset</th>\n",
              "      <th>is_translator</th>\n",
              "      <th>follow_request_sent</th>\n",
              "      <th>protected</th>\n",
              "      <th>verified</th>\n",
              "      <th>notifications</th>\n",
              "      <th>description</th>\n",
              "      <th>contributors_enabled</th>\n",
              "      <th>following</th>\n",
              "      <th>created_at</th>\n",
              "      <th>timestamp</th>\n",
              "      <th>crawled_at</th>\n",
              "      <th>updated</th>\n",
              "      <th>test_set_1</th>\n",
              "    </tr>\n",
              "  </thead>\n",
              "  <tbody>\n",
              "    <tr>\n",
              "      <th>0</th>\n",
              "      <td>24858289</td>\n",
              "      <td>Davide Bertoli</td>\n",
              "      <td>davideb66</td>\n",
              "      <td>1299</td>\n",
              "      <td>22</td>\n",
              "      <td>40</td>\n",
              "      <td>1</td>\n",
              "      <td>0</td>\n",
              "      <td>NaN</td>\n",
              "      <td>it</td>\n",
              "      <td>Rome</td>\n",
              "      <td>NaN</td>\n",
              "      <td>1.0</td>\n",
              "      <td>1.0</td>\n",
              "      <td>1.0</td>\n",
              "      <td>http://abs.twimg.com/sticky/default_profile_im...</td>\n",
              "      <td>NaN</td>\n",
              "      <td>1.0</td>\n",
              "      <td>https://abs.twimg.com/images/themes/theme1/bg.png</td>\n",
              "      <td>333333</td>\n",
              "      <td>https://abs.twimg.com/sticky/default_profile_i...</td>\n",
              "      <td>C0DEED</td>\n",
              "      <td>NaN</td>\n",
              "      <td>DDEEF6</td>\n",
              "      <td>http://abs.twimg.com/images/themes/theme1/bg.png</td>\n",
              "      <td>C0DEED</td>\n",
              "      <td>0084B4</td>\n",
              "      <td>7200.0</td>\n",
              "      <td>NaN</td>\n",
              "      <td>NaN</td>\n",
              "      <td>NaN</td>\n",
              "      <td>NaN</td>\n",
              "      <td>NaN</td>\n",
              "      <td>NaN</td>\n",
              "      <td>NaN</td>\n",
              "      <td>NaN</td>\n",
              "      <td>Tue Mar 17 08:51:12 +0000 2009</td>\n",
              "      <td>2009-03-17 09:51:12</td>\n",
              "      <td>2014-04-19 14:46:19</td>\n",
              "      <td>2016-03-15 14:12:22</td>\n",
              "      <td>1</td>\n",
              "    </tr>\n",
              "    <tr>\n",
              "      <th>1</th>\n",
              "      <td>33212890</td>\n",
              "      <td>Elisa D'Ospina</td>\n",
              "      <td>ElisaDospina</td>\n",
              "      <td>18665</td>\n",
              "      <td>12561</td>\n",
              "      <td>3442</td>\n",
              "      <td>16358</td>\n",
              "      <td>110</td>\n",
              "      <td>http://t.co/ceK8TovxwI</td>\n",
              "      <td>it</td>\n",
              "      <td>Greenland</td>\n",
              "      <td>Italy</td>\n",
              "      <td>NaN</td>\n",
              "      <td>NaN</td>\n",
              "      <td>1.0</td>\n",
              "      <td>http://pbs.twimg.com/profile_images/2603147033...</td>\n",
              "      <td>https://pbs.twimg.com/profile_banners/33212890...</td>\n",
              "      <td>1.0</td>\n",
              "      <td>https://pbs.twimg.com/profile_background_image...</td>\n",
              "      <td>333333</td>\n",
              "      <td>https://pbs.twimg.com/profile_images/260314703...</td>\n",
              "      <td>FFFFFF</td>\n",
              "      <td>1.0</td>\n",
              "      <td>F3F3F3</td>\n",
              "      <td>http://pbs.twimg.com/profile_background_images...</td>\n",
              "      <td>EBEBEB</td>\n",
              "      <td>990000</td>\n",
              "      <td>-7200.0</td>\n",
              "      <td>NaN</td>\n",
              "      <td>NaN</td>\n",
              "      <td>NaN</td>\n",
              "      <td>NaN</td>\n",
              "      <td>NaN</td>\n",
              "      <td>Autrice del libro #unavitatuttacurve dal 9 apr...</td>\n",
              "      <td>NaN</td>\n",
              "      <td>NaN</td>\n",
              "      <td>Sun Apr 19 14:38:04 +0000 2009</td>\n",
              "      <td>2009-04-19 16:38:04</td>\n",
              "      <td>2014-05-18 23:20:58</td>\n",
              "      <td>2016-03-15 14:17:13</td>\n",
              "      <td>1</td>\n",
              "    </tr>\n",
              "    <tr>\n",
              "      <th>2</th>\n",
              "      <td>39773427</td>\n",
              "      <td>Donato Vincenzo</td>\n",
              "      <td>Vladimir65</td>\n",
              "      <td>22987</td>\n",
              "      <td>600</td>\n",
              "      <td>755</td>\n",
              "      <td>14</td>\n",
              "      <td>6</td>\n",
              "      <td>NaN</td>\n",
              "      <td>it</td>\n",
              "      <td>Rome</td>\n",
              "      <td>iPhone: 45.471680,9.192429</td>\n",
              "      <td>NaN</td>\n",
              "      <td>NaN</td>\n",
              "      <td>NaN</td>\n",
              "      <td>http://pbs.twimg.com/profile_images/2290354446...</td>\n",
              "      <td>https://pbs.twimg.com/profile_banners/39773427...</td>\n",
              "      <td>1.0</td>\n",
              "      <td>https://pbs.twimg.com/profile_background_image...</td>\n",
              "      <td>333333</td>\n",
              "      <td>https://pbs.twimg.com/profile_images/229035444...</td>\n",
              "      <td>FFFFFF</td>\n",
              "      <td>1.0</td>\n",
              "      <td>EFEFEF</td>\n",
              "      <td>http://pbs.twimg.com/profile_background_images...</td>\n",
              "      <td>131516</td>\n",
              "      <td>009999</td>\n",
              "      <td>7200.0</td>\n",
              "      <td>NaN</td>\n",
              "      <td>NaN</td>\n",
              "      <td>NaN</td>\n",
              "      <td>NaN</td>\n",
              "      <td>NaN</td>\n",
              "      <td>[Live Long and Prosper]</td>\n",
              "      <td>NaN</td>\n",
              "      <td>NaN</td>\n",
              "      <td>Wed May 13 15:34:41 +0000 2009</td>\n",
              "      <td>2009-05-13 17:34:41</td>\n",
              "      <td>2014-05-13 23:21:54</td>\n",
              "      <td>2016-03-15 14:16:44</td>\n",
              "      <td>1</td>\n",
              "    </tr>\n",
              "  </tbody>\n",
              "</table>\n",
              "</div>"
            ],
            "text/plain": [
              "         id             name  ...              updated  test_set_1\n",
              "0  24858289   Davide Bertoli  ...  2016-03-15 14:12:22           1\n",
              "1  33212890   Elisa D'Ospina  ...  2016-03-15 14:17:13           1\n",
              "2  39773427  Donato Vincenzo  ...  2016-03-15 14:16:44           1\n",
              "\n",
              "[3 rows x 41 columns]"
            ]
          },
          "metadata": {
            "tags": []
          },
          "execution_count": 29
        }
      ]
    },
    {
      "cell_type": "code",
      "metadata": {
        "colab": {
          "base_uri": "https://localhost:8080/"
        },
        "id": "3AjpgMvmWvqe",
        "outputId": "4d284200-b9bc-45dd-aa97-84fc21ae3e0b"
      },
      "source": [
        "bot2_data.head(3)"
      ],
      "execution_count": null,
      "outputs": [
        {
          "output_type": "execute_result",
          "data": {
            "text/html": [
              "<div>\n",
              "<style scoped>\n",
              "    .dataframe tbody tr th:only-of-type {\n",
              "        vertical-align: middle;\n",
              "    }\n",
              "\n",
              "    .dataframe tbody tr th {\n",
              "        vertical-align: top;\n",
              "    }\n",
              "\n",
              "    .dataframe thead th {\n",
              "        text-align: right;\n",
              "    }\n",
              "</style>\n",
              "<table border=\"1\" class=\"dataframe\">\n",
              "  <thead>\n",
              "    <tr style=\"text-align: right;\">\n",
              "      <th></th>\n",
              "      <th>id</th>\n",
              "      <th>name</th>\n",
              "      <th>screen_name</th>\n",
              "      <th>statuses_count</th>\n",
              "      <th>followers_count</th>\n",
              "      <th>friends_count</th>\n",
              "      <th>favourites_count</th>\n",
              "      <th>listed_count</th>\n",
              "      <th>url</th>\n",
              "      <th>lang</th>\n",
              "      <th>time_zone</th>\n",
              "      <th>location</th>\n",
              "      <th>default_profile</th>\n",
              "      <th>default_profile_image</th>\n",
              "      <th>geo_enabled</th>\n",
              "      <th>profile_image_url</th>\n",
              "      <th>profile_banner_url</th>\n",
              "      <th>profile_use_background_image</th>\n",
              "      <th>profile_background_image_url_https</th>\n",
              "      <th>profile_text_color</th>\n",
              "      <th>profile_image_url_https</th>\n",
              "      <th>profile_sidebar_border_color</th>\n",
              "      <th>profile_background_tile</th>\n",
              "      <th>profile_sidebar_fill_color</th>\n",
              "      <th>profile_background_image_url</th>\n",
              "      <th>profile_background_color</th>\n",
              "      <th>profile_link_color</th>\n",
              "      <th>utc_offset</th>\n",
              "      <th>is_translator</th>\n",
              "      <th>follow_request_sent</th>\n",
              "      <th>protected</th>\n",
              "      <th>verified</th>\n",
              "      <th>notifications</th>\n",
              "      <th>description</th>\n",
              "      <th>contributors_enabled</th>\n",
              "      <th>following</th>\n",
              "      <th>created_at</th>\n",
              "      <th>timestamp</th>\n",
              "      <th>crawled_at</th>\n",
              "      <th>updated</th>\n",
              "    </tr>\n",
              "  </thead>\n",
              "  <tbody>\n",
              "    <tr>\n",
              "      <th>0</th>\n",
              "      <td>2372241176</td>\n",
              "      <td>Denna Mcsparren</td>\n",
              "      <td>DennaMcsparren</td>\n",
              "      <td>53</td>\n",
              "      <td>10</td>\n",
              "      <td>46</td>\n",
              "      <td>0</td>\n",
              "      <td>0</td>\n",
              "      <td>NaN</td>\n",
              "      <td>en</td>\n",
              "      <td>NaN</td>\n",
              "      <td>NaN</td>\n",
              "      <td>NaN</td>\n",
              "      <td>NaN</td>\n",
              "      <td>NaN</td>\n",
              "      <td>http://pbs.twimg.com/profile_images/4414666952...</td>\n",
              "      <td>NaN</td>\n",
              "      <td>1</td>\n",
              "      <td>https://pbs.twimg.com/profile_background_image...</td>\n",
              "      <td>333333</td>\n",
              "      <td>https://pbs.twimg.com/profile_images/441466695...</td>\n",
              "      <td>FFFFFF</td>\n",
              "      <td>1.0</td>\n",
              "      <td>DDEEF6</td>\n",
              "      <td>http://pbs.twimg.com/profile_background_images...</td>\n",
              "      <td>0000FF</td>\n",
              "      <td>0000FF</td>\n",
              "      <td>NaN</td>\n",
              "      <td>NaN</td>\n",
              "      <td>NaN</td>\n",
              "      <td>NaN</td>\n",
              "      <td>NaN</td>\n",
              "      <td>NaN</td>\n",
              "      <td>NaN</td>\n",
              "      <td>NaN</td>\n",
              "      <td>NaN</td>\n",
              "      <td>Tue Mar 04 18:11:08 +0000 2014</td>\n",
              "      <td>2014-03-04 19:11:08</td>\n",
              "      <td>2014-05-05 00:20:03</td>\n",
              "      <td>2016-03-15 15:02:07</td>\n",
              "    </tr>\n",
              "    <tr>\n",
              "      <th>1</th>\n",
              "      <td>2368684734</td>\n",
              "      <td>Yukiko Tretter</td>\n",
              "      <td>YukikoTretter</td>\n",
              "      <td>68</td>\n",
              "      <td>4</td>\n",
              "      <td>40</td>\n",
              "      <td>0</td>\n",
              "      <td>0</td>\n",
              "      <td>NaN</td>\n",
              "      <td>en</td>\n",
              "      <td>NaN</td>\n",
              "      <td>NaN</td>\n",
              "      <td>NaN</td>\n",
              "      <td>NaN</td>\n",
              "      <td>NaN</td>\n",
              "      <td>http://pbs.twimg.com/profile_images/4414788428...</td>\n",
              "      <td>NaN</td>\n",
              "      <td>1</td>\n",
              "      <td>https://pbs.twimg.com/profile_background_image...</td>\n",
              "      <td>333333</td>\n",
              "      <td>https://pbs.twimg.com/profile_images/441478842...</td>\n",
              "      <td>FFFFFF</td>\n",
              "      <td>1.0</td>\n",
              "      <td>DDEEF6</td>\n",
              "      <td>http://pbs.twimg.com/profile_background_images...</td>\n",
              "      <td>0000FF</td>\n",
              "      <td>0000FF</td>\n",
              "      <td>NaN</td>\n",
              "      <td>NaN</td>\n",
              "      <td>NaN</td>\n",
              "      <td>NaN</td>\n",
              "      <td>NaN</td>\n",
              "      <td>NaN</td>\n",
              "      <td>NaN</td>\n",
              "      <td>NaN</td>\n",
              "      <td>NaN</td>\n",
              "      <td>Sun Mar 02 10:38:13 +0000 2014</td>\n",
              "      <td>2014-03-02 11:38:13</td>\n",
              "      <td>2014-05-05 00:20:47</td>\n",
              "      <td>2016-03-15 15:02:07</td>\n",
              "    </tr>\n",
              "    <tr>\n",
              "      <th>2</th>\n",
              "      <td>2353855646</td>\n",
              "      <td>Rochel Amaro</td>\n",
              "      <td>RochelAmaro</td>\n",
              "      <td>79</td>\n",
              "      <td>9</td>\n",
              "      <td>39</td>\n",
              "      <td>0</td>\n",
              "      <td>0</td>\n",
              "      <td>NaN</td>\n",
              "      <td>en</td>\n",
              "      <td>NaN</td>\n",
              "      <td>NaN</td>\n",
              "      <td>NaN</td>\n",
              "      <td>NaN</td>\n",
              "      <td>NaN</td>\n",
              "      <td>http://pbs.twimg.com/profile_images/4373720034...</td>\n",
              "      <td>NaN</td>\n",
              "      <td>1</td>\n",
              "      <td>https://pbs.twimg.com/profile_background_image...</td>\n",
              "      <td>333333</td>\n",
              "      <td>https://pbs.twimg.com/profile_images/437372003...</td>\n",
              "      <td>FFFFFF</td>\n",
              "      <td>1.0</td>\n",
              "      <td>DDEEF6</td>\n",
              "      <td>http://pbs.twimg.com/profile_background_images...</td>\n",
              "      <td>0000FF</td>\n",
              "      <td>0000FF</td>\n",
              "      <td>NaN</td>\n",
              "      <td>NaN</td>\n",
              "      <td>NaN</td>\n",
              "      <td>NaN</td>\n",
              "      <td>NaN</td>\n",
              "      <td>NaN</td>\n",
              "      <td>NaN</td>\n",
              "      <td>NaN</td>\n",
              "      <td>NaN</td>\n",
              "      <td>Thu Feb 20 22:28:03 +0000 2014</td>\n",
              "      <td>2014-02-20 23:28:03</td>\n",
              "      <td>2014-05-05 00:20:03</td>\n",
              "      <td>2016-03-15 15:02:08</td>\n",
              "    </tr>\n",
              "  </tbody>\n",
              "</table>\n",
              "</div>"
            ],
            "text/plain": [
              "           id             name  ...           crawled_at              updated\n",
              "0  2372241176  Denna Mcsparren  ...  2014-05-05 00:20:03  2016-03-15 15:02:07\n",
              "1  2368684734   Yukiko Tretter  ...  2014-05-05 00:20:47  2016-03-15 15:02:07\n",
              "2  2353855646     Rochel Amaro  ...  2014-05-05 00:20:03  2016-03-15 15:02:08\n",
              "\n",
              "[3 rows x 40 columns]"
            ]
          },
          "metadata": {
            "tags": []
          },
          "execution_count": 30
        }
      ]
    },
    {
      "cell_type": "code",
      "metadata": {
        "colab": {
          "base_uri": "https://localhost:8080/"
        },
        "id": "Lg4zAZfQWy6f",
        "outputId": "33ec4b89-422c-4daf-b675-82c243ec05f7"
      },
      "source": [
        "bot3_data.head(3)"
      ],
      "execution_count": null,
      "outputs": [
        {
          "output_type": "execute_result",
          "data": {
            "text/html": [
              "<div>\n",
              "<style scoped>\n",
              "    .dataframe tbody tr th:only-of-type {\n",
              "        vertical-align: middle;\n",
              "    }\n",
              "\n",
              "    .dataframe tbody tr th {\n",
              "        vertical-align: top;\n",
              "    }\n",
              "\n",
              "    .dataframe thead th {\n",
              "        text-align: right;\n",
              "    }\n",
              "</style>\n",
              "<table border=\"1\" class=\"dataframe\">\n",
              "  <thead>\n",
              "    <tr style=\"text-align: right;\">\n",
              "      <th></th>\n",
              "      <th>id</th>\n",
              "      <th>name</th>\n",
              "      <th>screen_name</th>\n",
              "      <th>statuses_count</th>\n",
              "      <th>followers_count</th>\n",
              "      <th>friends_count</th>\n",
              "      <th>favourites_count</th>\n",
              "      <th>listed_count</th>\n",
              "      <th>url</th>\n",
              "      <th>lang</th>\n",
              "      <th>time_zone</th>\n",
              "      <th>location</th>\n",
              "      <th>default_profile</th>\n",
              "      <th>default_profile_image</th>\n",
              "      <th>geo_enabled</th>\n",
              "      <th>profile_image_url</th>\n",
              "      <th>profile_banner_url</th>\n",
              "      <th>profile_use_background_image</th>\n",
              "      <th>profile_background_image_url_https</th>\n",
              "      <th>profile_text_color</th>\n",
              "      <th>profile_image_url_https</th>\n",
              "      <th>profile_sidebar_border_color</th>\n",
              "      <th>profile_background_tile</th>\n",
              "      <th>profile_sidebar_fill_color</th>\n",
              "      <th>profile_background_image_url</th>\n",
              "      <th>profile_background_color</th>\n",
              "      <th>profile_link_color</th>\n",
              "      <th>utc_offset</th>\n",
              "      <th>is_translator</th>\n",
              "      <th>follow_request_sent</th>\n",
              "      <th>protected</th>\n",
              "      <th>verified</th>\n",
              "      <th>notifications</th>\n",
              "      <th>description</th>\n",
              "      <th>contributors_enabled</th>\n",
              "      <th>following</th>\n",
              "      <th>created_at</th>\n",
              "      <th>timestamp</th>\n",
              "      <th>crawled_at</th>\n",
              "      <th>updated</th>\n",
              "      <th>test_set_2</th>\n",
              "    </tr>\n",
              "  </thead>\n",
              "  <tbody>\n",
              "    <tr>\n",
              "      <th>0</th>\n",
              "      <td>16282004</td>\n",
              "      <td>Enrique Kates</td>\n",
              "      <td>eckates</td>\n",
              "      <td>11405</td>\n",
              "      <td>819</td>\n",
              "      <td>2000</td>\n",
              "      <td>0</td>\n",
              "      <td>19</td>\n",
              "      <td>http://t.co/gAa6cVM0Fe</td>\n",
              "      <td>en</td>\n",
              "      <td>Eastern Time (US &amp; Canada)</td>\n",
              "      <td>Florida, USA</td>\n",
              "      <td>1.0</td>\n",
              "      <td>NaN</td>\n",
              "      <td>NaN</td>\n",
              "      <td>http://pbs.twimg.com/profile_images/1080839420...</td>\n",
              "      <td>NaN</td>\n",
              "      <td>1.0</td>\n",
              "      <td>https://abs.twimg.com/images/themes/theme1/bg.png</td>\n",
              "      <td>333333</td>\n",
              "      <td>https://pbs.twimg.com/profile_images/108083942...</td>\n",
              "      <td>C0DEED</td>\n",
              "      <td>NaN</td>\n",
              "      <td>DDEEF6</td>\n",
              "      <td>http://abs.twimg.com/images/themes/theme1/bg.png</td>\n",
              "      <td>C0DEED</td>\n",
              "      <td>0084B4</td>\n",
              "      <td>-14400.0</td>\n",
              "      <td>NaN</td>\n",
              "      <td>NaN</td>\n",
              "      <td>NaN</td>\n",
              "      <td>NaN</td>\n",
              "      <td>NaN</td>\n",
              "      <td>My name is Enrique! ! I'm a highly experienced...</td>\n",
              "      <td>NaN</td>\n",
              "      <td>NaN</td>\n",
              "      <td>Sun Sep 14 11:20:09 +0000 2008</td>\n",
              "      <td>2008-09-14 13:20:09</td>\n",
              "      <td>2014-05-05 23:17:51</td>\n",
              "      <td>2016-03-15 15:41:18</td>\n",
              "      <td>1</td>\n",
              "    </tr>\n",
              "    <tr>\n",
              "      <th>1</th>\n",
              "      <td>16740486</td>\n",
              "      <td>genebailey</td>\n",
              "      <td>genebailey</td>\n",
              "      <td>520</td>\n",
              "      <td>219</td>\n",
              "      <td>406</td>\n",
              "      <td>36</td>\n",
              "      <td>2</td>\n",
              "      <td>http://t.co/mag9oYulVZ</td>\n",
              "      <td>en</td>\n",
              "      <td>Central Time (US &amp; Canada)</td>\n",
              "      <td>32.921043,-97.200378</td>\n",
              "      <td>NaN</td>\n",
              "      <td>NaN</td>\n",
              "      <td>1.0</td>\n",
              "      <td>http://pbs.twimg.com/profile_images/1595252913...</td>\n",
              "      <td>https://pbs.twimg.com/profile_banners/16740486...</td>\n",
              "      <td>1.0</td>\n",
              "      <td>https://pbs.twimg.com/profile_background_image...</td>\n",
              "      <td>3E4415</td>\n",
              "      <td>https://pbs.twimg.com/profile_images/159525291...</td>\n",
              "      <td>829D5E</td>\n",
              "      <td>NaN</td>\n",
              "      <td>99CC33</td>\n",
              "      <td>http://pbs.twimg.com/profile_background_images...</td>\n",
              "      <td>352726</td>\n",
              "      <td>D02B55</td>\n",
              "      <td>-18000.0</td>\n",
              "      <td>NaN</td>\n",
              "      <td>NaN</td>\n",
              "      <td>NaN</td>\n",
              "      <td>NaN</td>\n",
              "      <td>NaN</td>\n",
              "      <td>Author, Speaker, Father, Friend, Motivator, Re...</td>\n",
              "      <td>NaN</td>\n",
              "      <td>NaN</td>\n",
              "      <td>Tue Oct 14 16:11:24 +0000 2008</td>\n",
              "      <td>2008-10-14 18:11:24</td>\n",
              "      <td>2014-05-05 23:17:51</td>\n",
              "      <td>2016-03-15 15:41:15</td>\n",
              "      <td>1</td>\n",
              "    </tr>\n",
              "    <tr>\n",
              "      <th>2</th>\n",
              "      <td>17132768</td>\n",
              "      <td>Patrick G Howard</td>\n",
              "      <td>patrickghoward</td>\n",
              "      <td>4671</td>\n",
              "      <td>38877</td>\n",
              "      <td>25953</td>\n",
              "      <td>6</td>\n",
              "      <td>228</td>\n",
              "      <td>http://t.co/0ukMNj4N3Y</td>\n",
              "      <td>en</td>\n",
              "      <td>Central Time (US &amp; Canada)</td>\n",
              "      <td>Houston, Texas USA</td>\n",
              "      <td>NaN</td>\n",
              "      <td>NaN</td>\n",
              "      <td>NaN</td>\n",
              "      <td>http://pbs.twimg.com/profile_images/4181686842...</td>\n",
              "      <td>NaN</td>\n",
              "      <td>1.0</td>\n",
              "      <td>https://abs.twimg.com/images/themes/theme15/bg...</td>\n",
              "      <td>333333</td>\n",
              "      <td>https://pbs.twimg.com/profile_images/418168684...</td>\n",
              "      <td>A8C7F7</td>\n",
              "      <td>NaN</td>\n",
              "      <td>C0DFEC</td>\n",
              "      <td>http://abs.twimg.com/images/themes/theme15/bg.png</td>\n",
              "      <td>022330</td>\n",
              "      <td>0084B4</td>\n",
              "      <td>-18000.0</td>\n",
              "      <td>NaN</td>\n",
              "      <td>NaN</td>\n",
              "      <td>NaN</td>\n",
              "      <td>NaN</td>\n",
              "      <td>NaN</td>\n",
              "      <td>Patrick G Howard is an experienced project &amp; p...</td>\n",
              "      <td>NaN</td>\n",
              "      <td>NaN</td>\n",
              "      <td>Mon Nov 03 15:51:00 +0000 2008</td>\n",
              "      <td>2008-11-03 16:51:00</td>\n",
              "      <td>2014-05-05 23:17:51</td>\n",
              "      <td>2016-03-15 15:41:15</td>\n",
              "      <td>1</td>\n",
              "    </tr>\n",
              "  </tbody>\n",
              "</table>\n",
              "</div>"
            ],
            "text/plain": [
              "         id              name  ...              updated  test_set_2\n",
              "0  16282004     Enrique Kates  ...  2016-03-15 15:41:18           1\n",
              "1  16740486        genebailey  ...  2016-03-15 15:41:15           1\n",
              "2  17132768  Patrick G Howard  ...  2016-03-15 15:41:15           1\n",
              "\n",
              "[3 rows x 41 columns]"
            ]
          },
          "metadata": {
            "tags": []
          },
          "execution_count": 31
        }
      ]
    },
    {
      "cell_type": "markdown",
      "metadata": {
        "id": "4KOGV_T4qOfo"
      },
      "source": [
        "### **Length of Files**"
      ]
    },
    {
      "cell_type": "code",
      "metadata": {
        "id": "KQlRvdoHaJYO",
        "colab": {
          "base_uri": "https://localhost:8080/"
        },
        "outputId": "70f14aaf-5d8d-4d83-e48c-7392c622f404"
      },
      "source": [
        "print(\"Count of data of legitimate accounts : \", len(user_data))\n",
        "print(\"Count of data of accounts of bot user group - 1 : \", len(bot1_data))\n",
        "print(\"Count of data of accounts of bot user group - 2 : \", len(bot2_data))\n",
        "print(\"Count of data of accounts of bot user group - 3 : \",len(bot3_data))"
      ],
      "execution_count": null,
      "outputs": [
        {
          "output_type": "stream",
          "text": [
            "Count of data of legitimate accounts :  3474\n",
            "Count of data of accounts of bot user group - 1 :  991\n",
            "Count of data of accounts of bot user group - 2 :  3457\n",
            "Count of data of accounts of bot user group - 3 :  464\n"
          ],
          "name": "stdout"
        }
      ]
    },
    {
      "cell_type": "code",
      "metadata": {
        "id": "h0eIRQeY1zpZ"
      },
      "source": [
        "a = len(user_data)\n",
        "b = len(bot1_data)\n",
        "c = len(bot2_data)\n",
        "d = len(bot3_data)"
      ],
      "execution_count": null,
      "outputs": []
    },
    {
      "cell_type": "code",
      "metadata": {
        "colab": {
          "base_uri": "https://localhost:8080/",
          "height": 295
        },
        "id": "_SmyJB-J32Ia",
        "outputId": "bed2126f-2fd4-429a-f4eb-9b6a89438f94"
      },
      "source": [
        "import matplotlib.pyplot as plt\n",
        "# creating the dataset\n",
        "data = {'USer':a, 'Bot-1':b, 'Bot-2':c,\n",
        "        'Bot-3':d}\n",
        "courses = list(data.keys())\n",
        "values = list(data.values())\n",
        "  \n",
        "fig = plt.figure(figsize = (6, 4))\n",
        " \n",
        "# creating the bar plot\n",
        "plt.bar(courses, values, color=['yellowgreen', 'indianred', 'burlywood', 'grey'],\n",
        "        width = 0.4)\n",
        " \n",
        "plt.xlabel(\"Account Type\")\n",
        "plt.ylabel(\"Number of Accounts\")\n",
        "plt.title(\"Data Count w.r.t. Each Group\")\n",
        "plt.show()"
      ],
      "execution_count": null,
      "outputs": [
        {
          "output_type": "display_data",
          "data": {
            "image/png": "[encoded data removed]",
            "text/plain": [
              "<Figure size 432x288 with 1 Axes>"
            ]
          },
          "metadata": {
            "tags": [],
            "needs_background": "light"
          }
        }
      ]
    },
    {
      "cell_type": "markdown",
      "metadata": {
        "id": "BZNUNnkp1BO0"
      },
      "source": [
        "### **Follower vs Friend ratio**\n",
        "\n",
        "Follower vs Friend Ratio is defined as the number of people you are following & the number of people following you.\n",
        "\n",
        "If the number of follower is relatively small compared to the amount of people you are following, the follower ratio is relatively small & account being spam is high."
      ]
    },
    {
      "cell_type": "markdown",
      "metadata": {
        "id": "GlG5TsTN1Fmq"
      },
      "source": [
        "**For Legitimate Accounts**"
      ]
    },
    {
      "cell_type": "code",
      "metadata": {
        "colab": {
          "base_uri": "https://localhost:8080/"
        },
        "id": "LqF_fMgNzu5W",
        "outputId": "2b0c9eff-5d9f-4c34-b292-18d69be09b0f"
      },
      "source": [
        "user = user_data.followers_count/(user_data.friends_count + user_data.followers_count)\n",
        "print(user)"
      ],
      "execution_count": null,
      "outputs": [
        {
          "output_type": "stream",
          "text": [
            "0       0.385185\n",
            "1       0.404908\n",
            "2       0.483965\n",
            "3       0.696191\n",
            "4       0.210000\n",
            "          ...   \n",
            "3469    0.136035\n",
            "3470    0.812878\n",
            "3471    0.116883\n",
            "3472    0.134868\n",
            "3473    0.820428\n",
            "Length: 3474, dtype: float64\n"
          ],
          "name": "stdout"
        }
      ]
    },
    {
      "cell_type": "code",
      "metadata": {
        "colab": {
          "base_uri": "https://localhost:8080/"
        },
        "id": "2cqvCGjS0YmM",
        "outputId": "c8a5af54-0b00-40be-f0ba-169fb260b65e"
      },
      "source": [
        "print(np.nanmean(user))"
      ],
      "execution_count": null,
      "outputs": [
        {
          "output_type": "stream",
          "text": [
            "0.5027722347999382\n"
          ],
          "name": "stdout"
        }
      ]
    },
    {
      "cell_type": "markdown",
      "metadata": {
        "id": "pjJnPTup1g6w"
      },
      "source": [
        "**Follower Ratio Bot User Group-1**"
      ]
    },
    {
      "cell_type": "code",
      "metadata": {
        "colab": {
          "base_uri": "https://localhost:8080/"
        },
        "id": "9Mf-5Q9W1UKA",
        "outputId": "cc5926ee-fcc5-4ef5-9739-9658b873fc20"
      },
      "source": [
        "bot1 = bot1_data.followers_count/(bot1_data.friends_count + bot1_data.followers_count)\n",
        "print(bot1)"
      ],
      "execution_count": null,
      "outputs": [
        {
          "output_type": "stream",
          "text": [
            "0      0.354839\n",
            "1      0.784915\n",
            "2      0.442804\n",
            "3      0.532086\n",
            "4      0.504890\n",
            "         ...   \n",
            "986    0.479084\n",
            "987    0.482977\n",
            "988    0.477110\n",
            "989    0.553275\n",
            "990    0.346029\n",
            "Length: 991, dtype: float64\n"
          ],
          "name": "stdout"
        }
      ]
    },
    {
      "cell_type": "code",
      "metadata": {
        "colab": {
          "base_uri": "https://localhost:8080/"
        },
        "id": "AKR-xDig15fJ",
        "outputId": "d2002e06-5791-4ded-d518-5fb395b14b83"
      },
      "source": [
        "print(np.nanmean(bot1))\n"
      ],
      "execution_count": null,
      "outputs": [
        {
          "output_type": "stream",
          "text": [
            "0.5237114689719357\n"
          ],
          "name": "stdout"
        }
      ]
    },
    {
      "cell_type": "markdown",
      "metadata": {
        "id": "mB9bNjvm3dxB"
      },
      "source": [
        "**Follower Ratio for Bor User Group-2**"
      ]
    },
    {
      "cell_type": "code",
      "metadata": {
        "colab": {
          "base_uri": "https://localhost:8080/"
        },
        "id": "D43AWDVk3dWg",
        "outputId": "930491ca-54f7-4cec-b435-3f3896cdce64"
      },
      "source": [
        "bot2 = bot2_data.followers_count/(bot2_data.friends_count + bot2_data.followers_count)\n",
        "print(bot2)"
      ],
      "execution_count": null,
      "outputs": [
        {
          "output_type": "stream",
          "text": [
            "0       0.178571\n",
            "1       0.090909\n",
            "2       0.187500\n",
            "3       0.025000\n",
            "4       0.162791\n",
            "          ...   \n",
            "3452    0.094855\n",
            "3453    0.187500\n",
            "3454    0.108108\n",
            "3455    0.118243\n",
            "3456    0.166667\n",
            "Length: 3457, dtype: float64\n"
          ],
          "name": "stdout"
        }
      ]
    },
    {
      "cell_type": "code",
      "metadata": {
        "colab": {
          "base_uri": "https://localhost:8080/"
        },
        "id": "H41Nu1X-3sps",
        "outputId": "7d8e1437-4388-4565-9ea0-8a0c55c4fc82"
      },
      "source": [
        "print(np.nanmean(bot2))"
      ],
      "execution_count": null,
      "outputs": [
        {
          "output_type": "stream",
          "text": [
            "0.11543068901989084\n"
          ],
          "name": "stdout"
        }
      ]
    },
    {
      "cell_type": "markdown",
      "metadata": {
        "id": "lFyf95lG6LTO"
      },
      "source": [
        "**Follower Ratio for Bor User Group-3**"
      ]
    },
    {
      "cell_type": "code",
      "metadata": {
        "colab": {
          "base_uri": "https://localhost:8080/"
        },
        "id": "iAwGClCf6R59",
        "outputId": "0dec203f-85a4-4bb8-89af-f9d7de0e6308"
      },
      "source": [
        "bot3 = bot3_data.followers_count/(bot3_data.friends_count + bot3_data.followers_count)\n",
        "print(bot3)"
      ],
      "execution_count": null,
      "outputs": [
        {
          "output_type": "stream",
          "text": [
            "0      0.290529\n",
            "1      0.350400\n",
            "2      0.599676\n",
            "3      0.637400\n",
            "4      0.471221\n",
            "         ...   \n",
            "459    0.148148\n",
            "460    0.090909\n",
            "461    0.189542\n",
            "462    0.245726\n",
            "463    0.119153\n",
            "Length: 464, dtype: float64\n"
          ],
          "name": "stdout"
        }
      ]
    },
    {
      "cell_type": "code",
      "metadata": {
        "colab": {
          "base_uri": "https://localhost:8080/"
        },
        "id": "C777AKTs6Ouo",
        "outputId": "2b0cd487-95b2-42f7-c1b6-86232c62237d"
      },
      "source": [
        "print(np.nanmean(bot3))"
      ],
      "execution_count": null,
      "outputs": [
        {
          "output_type": "stream",
          "text": [
            "0.3778966696976445\n"
          ],
          "name": "stdout"
        }
      ]
    },
    {
      "cell_type": "code",
      "metadata": {
        "colab": {
          "base_uri": "https://localhost:8080/"
        },
        "id": "QbhhrZoN8Iek",
        "outputId": "3f025a69-a648-4257-8f8c-2c4bde3257dd"
      },
      "source": [
        "print(\"Follower Ratio of Legitimate Users:- \", np.nanmean(user))\n",
        "print(\"Follower Ratio of  Group-1 Bots:- \", np.nanmean(bot1))\n",
        "print(\"Follower Ratio of Group-2 Bots:- \", np.nanmean(bot2))\n",
        "print(\"Follower Ratio of Group-3 Bots:- \", np.nanmean(bot3))"
      ],
      "execution_count": null,
      "outputs": [
        {
          "output_type": "stream",
          "text": [
            "Follower Ratio of Legitimate Users:-  0.5027722347999382\n",
            "Follower Ratio of  Group-1 Bots:-  0.5237114689719357\n",
            "Follower Ratio of Group-2 Bots:-  0.11543068901989084\n",
            "Follower Ratio of Group-3 Bots:-  0.3778966696976445\n"
          ],
          "name": "stdout"
        }
      ]
    },
    {
      "cell_type": "markdown",
      "metadata": {
        "id": "RJeRFBEouLEZ"
      },
      "source": [
        "### **Followers vs. Friends Plot**"
      ]
    },
    {
      "cell_type": "code",
      "metadata": {
        "colab": {
          "base_uri": "https://localhost:8080/",
          "height": 983
        },
        "id": "Z4bo_tBfufSI",
        "outputId": "d0b6e896-361b-4650-9364-65b5a0e5761f"
      },
      "source": [
        "plt.figure(figsize=(15,5))\n",
        "plt.subplot(2,1,1)\n",
        "plt.title('Legitimate User Friend vs Follower')\n",
        "sns.regplot(user_data.friends_count, user_data.followers_count, color='#88BB44', label='Bots')\n",
        "plt.xlim(0, 100)\n",
        "plt.ylim(0, 100)\n",
        "plt.tight_layout()\n",
        "\n",
        "plt.figure(figsize=(15,5))\n",
        "plt.subplot(2,1,1)\n",
        "plt.title('Bots-G1 Friend vs Followers')\n",
        "sns.regplot(bot1_data.friends_count, bot1_data.followers_count, color='#88BB44', label='Bots')\n",
        "plt.xlim(0, 100)\n",
        "plt.ylim(0, 100)\n",
        "plt.tight_layout()\n",
        "\n",
        "plt.figure(figsize=(15,5))\n",
        "plt.subplot(2,1,1)\n",
        "plt.title('Bots-G2 Friend vs Followers')\n",
        "sns.regplot(bot2_data.friends_count, bot2_data.followers_count, color='#88BB44', label='Bots')\n",
        "plt.xlim(0, 100)\n",
        "plt.ylim(0, 100)\n",
        "plt.tight_layout()\n",
        "\n",
        "plt.figure(figsize=(15,5))\n",
        "plt.subplot(2,1,1)\n",
        "plt.title('Bots-G3 Friend vs Followers')\n",
        "sns.regplot(bot3_data.friends_count, bot3_data.followers_count, color='#88BB44', label='Bots')\n",
        "plt.xlim(0, 100)\n",
        "plt.ylim(0, 100)\n",
        "plt.tight_layout()\n"
      ],
      "execution_count": null,
      "outputs": [
        {
          "output_type": "stream",
          "text": [
            "/usr/local/lib/python3.7/dist-packages/seaborn/_decorators.py:43: FutureWarning: Pass the following variables as keyword args: x, y. From version 0.12, the only valid positional argument will be `data`, and passing other arguments without an explicit keyword will result in an error or misinterpretation.\n",
            "  FutureWarning\n",
            "/usr/local/lib/python3.7/dist-packages/seaborn/_decorators.py:43: FutureWarning: Pass the following variables as keyword args: x, y. From version 0.12, the only valid positional argument will be `data`, and passing other arguments without an explicit keyword will result in an error or misinterpretation.\n",
            "  FutureWarning\n",
            "/usr/local/lib/python3.7/dist-packages/seaborn/_decorators.py:43: FutureWarning: Pass the following variables as keyword args: x, y. From version 0.12, the only valid positional argument will be `data`, and passing other arguments without an explicit keyword will result in an error or misinterpretation.\n",
            "  FutureWarning\n",
            "/usr/local/lib/python3.7/dist-packages/seaborn/_decorators.py:43: FutureWarning: Pass the following variables as keyword args: x, y. From version 0.12, the only valid positional argument will be `data`, and passing other arguments without an explicit keyword will result in an error or misinterpretation.\n",
            "  FutureWarning\n"
          ],
          "name": "stderr"
        },
        {
          "output_type": "display_data",
          "data": {
            "image/png": "[encoded data removed]",
            "text/plain": [
              "<Figure size 1080x360 with 1 Axes>"
            ]
          },
          "metadata": {
            "tags": [],
            "needs_background": "light"
          }
        },
        {
          "output_type": "display_data",
          "data": {
            "image/png": "[encoded data removed]",
            "text/plain": [
              "<Figure size 1080x360 with 1 Axes>"
            ]
          },
          "metadata": {
            "tags": [],
            "needs_background": "light"
          }
        },
        {
          "output_type": "display_data",
          "data": {
            "image/png": "[encoded data removed]",
            "text/plain": [
              "<Figure size 1080x360 with 1 Axes>"
            ]
          },
          "metadata": {
            "tags": [],
            "needs_background": "light"
          }
        },
        {
          "output_type": "display_data",
          "data": {
            "image/png": "[encoded data removed]",
            "text/plain": [
              "<Figure size 1080x360 with 1 Axes>"
            ]
          },
          "metadata": {
            "tags": [],
            "needs_background": "light"
          }
        }
      ]
    },
    {
      "cell_type": "markdown",
      "metadata": {
        "id": "LZ2UtCKng_7S"
      },
      "source": [
        "### **Interaction Level of Accounts**"
      ]
    },
    {
      "cell_type": "code",
      "metadata": {
        "id": "Q49axCWRg_bJ"
      },
      "source": [
        "def plot(freq, plot_title, range_max):\n",
        "    plt.figure(figsize=[10,4])\n",
        "    range = (0, range_max)\n",
        "    bins = 10\n",
        "    plt.hist(freq, bins, range, color = 'grey', histtype = 'bar', rwidth = 0.8)\n",
        "    plt.xlabel('Interaction')\n",
        "    plt.xticks(np.arange(0, 4000, step=200))\n",
        "    plt.ylabel('Accounts')\n",
        "    plt.title(plot_title)\n",
        "\n",
        "def makePlot(file_dir, plot_title):\n",
        "    col_list = [\"serial\", \"sequence\"]\n",
        "    df = pd.read_csv(file_dir, usecols = col_list)\n",
        "    df['length'] = df.apply(lambda row: len(row.sequence), axis=1)\n",
        "    max_len = df['length'].max()\n",
        "    plot(df['length'], plot_title, max_len+200)"
      ],
      "execution_count": null,
      "outputs": []
    },
    {
      "cell_type": "markdown",
      "metadata": {
        "id": "OssB-166nCur"
      },
      "source": [
        "**1. Legitimate User**"
      ]
    },
    {
      "cell_type": "code",
      "metadata": {
        "colab": {
          "base_uri": "https://localhost:8080/",
          "height": 295
        },
        "id": "sCEQuewtmzNV",
        "outputId": "794a2c21-8965-4e08-bcb4-340a81c29059"
      },
      "source": [
        "makePlot(\"/content/drive/MyDrive/Projects/datasets_full.csv/dataset/sequence/genuine_user_b3_seq.csv\", \"Legitimate User B3Type Seq\")"
      ],
      "execution_count": null,
      "outputs": [
        {
          "output_type": "display_data",
          "data": {
            "image/png": "[encoded data removed]",
            "text/plain": [
              "<Figure size 720x288 with 1 Axes>"
            ]
          },
          "metadata": {
            "tags": [],
            "needs_background": "light"
          }
        }
      ]
    },
    {
      "cell_type": "code",
      "metadata": {
        "colab": {
          "base_uri": "https://localhost:8080/",
          "height": 295
        },
        "id": "OCuR1JCFntVc",
        "outputId": "9cdbd2ca-a28b-485d-fbff-40cc0d8225e6"
      },
      "source": [
        "makePlot(\"/content/drive/MyDrive/Projects/datasets_full.csv/dataset/sequence/genuine_user_content_b3_seq.csv\", \"Legitimate User B3Content Seq\")"
      ],
      "execution_count": null,
      "outputs": [
        {
          "output_type": "display_data",
          "data": {
            "image/png": "[encoded data removed]",
            "text/plain": [
              "<Figure size 720x288 with 1 Axes>"
            ]
          },
          "metadata": {
            "tags": [],
            "needs_background": "light"
          }
        }
      ]
    },
    {
      "cell_type": "code",
      "metadata": {
        "colab": {
          "base_uri": "https://localhost:8080/",
          "height": 295
        },
        "id": "YAU-_b5Mn0GY",
        "outputId": "3a17043d-bbad-476e-ee3c-4a160898e758"
      },
      "source": [
        "makePlot(\"/content/drive/MyDrive/Projects/datasets_full.csv/dataset/sequence/genuine_user_content_b6_seq.csv\", \"Legitimate User B6Content Seq\")"
      ],
      "execution_count": null,
      "outputs": [
        {
          "output_type": "display_data",
          "data": {
            "image/png": "[encoded data removed]",
            "text/plain": [
              "<Figure size 720x288 with 1 Axes>"
            ]
          },
          "metadata": {
            "tags": [],
            "needs_background": "light"
          }
        }
      ]
    },
    {
      "cell_type": "markdown",
      "metadata": {
        "id": "MErKH5DeoRk0"
      },
      "source": [
        "**2. Bot User Group - 1**"
      ]
    },
    {
      "cell_type": "code",
      "metadata": {
        "colab": {
          "base_uri": "https://localhost:8080/",
          "height": 295
        },
        "id": "QODFmajZoR9q",
        "outputId": "2a8c85b9-5de9-4393-ba06-b90f4e6e6ade"
      },
      "source": [
        "makePlot(\"/content/drive/MyDrive/Projects/datasets_full.csv/dataset/sequence/bot1_user_b3_seq.csv\", \"Bot G1 B3Type Seq\")"
      ],
      "execution_count": null,
      "outputs": [
        {
          "output_type": "display_data",
          "data": {
            "image/png": "[encoded data removed]",
            "text/plain": [
              "<Figure size 720x288 with 1 Axes>"
            ]
          },
          "metadata": {
            "tags": [],
            "needs_background": "light"
          }
        }
      ]
    },
    {
      "cell_type": "code",
      "metadata": {
        "colab": {
          "base_uri": "https://localhost:8080/",
          "height": 295
        },
        "id": "cZred6lTomhv",
        "outputId": "e18aaded-e85f-4d07-c660-055ee88e1dae"
      },
      "source": [
        "makePlot(\"/content/drive/MyDrive/Projects/datasets_full.csv/dataset/sequence/bot1_user_content_b3_seq.csv\", \"Bot1 Twitter Content B3 Seq\")"
      ],
      "execution_count": null,
      "outputs": [
        {
          "output_type": "display_data",
          "data": {
            "image/png": "[encoded data removed]",
            "text/plain": [
              "<Figure size 720x288 with 1 Axes>"
            ]
          },
          "metadata": {
            "tags": [],
            "needs_background": "light"
          }
        }
      ]
    },
    {
      "cell_type": "code",
      "metadata": {
        "colab": {
          "base_uri": "https://localhost:8080/",
          "height": 295
        },
        "id": "zgWw_crronCC",
        "outputId": "91459418-d657-4561-d720-1a59f8fb46c5"
      },
      "source": [
        "makePlot(\"/content/drive/MyDrive/Projects/datasets_full.csv/dataset/sequence/bot1_user_content_b6_seq.csv\", \"Bot1 Twitter Content B6 Seq\")"
      ],
      "execution_count": null,
      "outputs": [
        {
          "output_type": "display_data",
          "data": {
            "image/png": "[encoded data removed]",
            "text/plain": [
              "<Figure size 720x288 with 1 Axes>"
            ]
          },
          "metadata": {
            "tags": [],
            "needs_background": "light"
          }
        }
      ]
    },
    {
      "cell_type": "markdown",
      "metadata": {
        "id": "MQOpYrQfo8O_"
      },
      "source": [
        "**3. Bot User Group - 2**"
      ]
    },
    {
      "cell_type": "code",
      "metadata": {
        "colab": {
          "base_uri": "https://localhost:8080/",
          "height": 295
        },
        "id": "JQPtvdE1o_jD",
        "outputId": "8ea282a9-8cc0-459c-98bb-0130816d98f6"
      },
      "source": [
        "makePlot(\"/content/drive/MyDrive/Projects/datasets_full.csv/dataset/sequence/bot2_user_b3_seq.csv\", \"Bot G2 B3Type Seq\")"
      ],
      "execution_count": null,
      "outputs": [
        {
          "output_type": "display_data",
          "data": {
            "image/png": "[encoded data removed]",
            "text/plain": [
              "<Figure size 720x288 with 1 Axes>"
            ]
          },
          "metadata": {
            "tags": [],
            "needs_background": "light"
          }
        }
      ]
    },
    {
      "cell_type": "code",
      "metadata": {
        "colab": {
          "base_uri": "https://localhost:8080/",
          "height": 295
        },
        "id": "Is4nSy3UpHih",
        "outputId": "0725d499-16fb-4372-df4d-5787249571b0"
      },
      "source": [
        "makePlot(\"/content/drive/MyDrive/Projects/datasets_full.csv/dataset/sequence/bot2_user_content_b3_seq.csv\", \"Bot2 Twitter Content B3 Seq\")"
      ],
      "execution_count": null,
      "outputs": [
        {
          "output_type": "display_data",
          "data": {
            "image/png": "[encoded data removed]",
            "text/plain": [
              "<Figure size 720x288 with 1 Axes>"
            ]
          },
          "metadata": {
            "tags": [],
            "needs_background": "light"
          }
        }
      ]
    },
    {
      "cell_type": "code",
      "metadata": {
        "colab": {
          "base_uri": "https://localhost:8080/",
          "height": 295
        },
        "id": "4rzPClszpI9r",
        "outputId": "555bb9b8-6413-457a-9226-67ca74abdf44"
      },
      "source": [
        "makePlot(\"/content/drive/MyDrive/Projects/datasets_full.csv/dataset/sequence/bot2_user_content_b6_seq.csv\", \"Bot2 Twitter Content B6 Seq\")"
      ],
      "execution_count": null,
      "outputs": [
        {
          "output_type": "display_data",
          "data": {
            "image/png": "[encoded data removed]",
            "text/plain": [
              "<Figure size 720x288 with 1 Axes>"
            ]
          },
          "metadata": {
            "tags": [],
            "needs_background": "light"
          }
        }
      ]
    },
    {
      "cell_type": "markdown",
      "metadata": {
        "id": "mOHCRc_Ypczw"
      },
      "source": [
        "**4. Bot Group-3**"
      ]
    },
    {
      "cell_type": "code",
      "metadata": {
        "colab": {
          "base_uri": "https://localhost:8080/",
          "height": 295
        },
        "id": "UbbHSPGvpf7f",
        "outputId": "6cd10b97-1e0d-4470-9d29-8185e065f2d5"
      },
      "source": [
        "makePlot(\"/content/drive/MyDrive/Projects/datasets_full.csv/dataset/sequence/bot3_user_b3_seq.csv\", \"Bot G3 B3Type Seq\")"
      ],
      "execution_count": null,
      "outputs": [
        {
          "output_type": "display_data",
          "data": {
            "image/png": "[encoded data removed]",
            "text/plain": [
              "<Figure size 720x288 with 1 Axes>"
            ]
          },
          "metadata": {
            "tags": [],
            "needs_background": "light"
          }
        }
      ]
    },
    {
      "cell_type": "code",
      "metadata": {
        "colab": {
          "base_uri": "https://localhost:8080/",
          "height": 295
        },
        "id": "2Hva-zeipv8y",
        "outputId": "e1cef408-66e4-4ee3-8c0e-51b202694364"
      },
      "source": [
        "makePlot(\"/content/drive/MyDrive/Projects/datasets_full.csv/dataset/sequence/bot3_user_content_b3_seq.csv\", \"Bot3 Twitter Content B3 Seq\")"
      ],
      "execution_count": null,
      "outputs": [
        {
          "output_type": "display_data",
          "data": {
            "image/png": "[encoded data removed]",
            "text/plain": [
              "<Figure size 720x288 with 1 Axes>"
            ]
          },
          "metadata": {
            "tags": [],
            "needs_background": "light"
          }
        }
      ]
    },
    {
      "cell_type": "code",
      "metadata": {
        "colab": {
          "base_uri": "https://localhost:8080/",
          "height": 295
        },
        "id": "vsrvIcdVpxw8",
        "outputId": "a9c70943-39e7-442d-93e4-b6a6e65f7102"
      },
      "source": [
        "makePlot(\"/content/drive/MyDrive/Projects/datasets_full.csv/dataset/sequence/bot3_user_content_b6_seq.csv\", \"Bot3 Twitter Content B6 Seq\")"
      ],
      "execution_count": null,
      "outputs": [
        {
          "output_type": "display_data",
          "data": {
            "image/png": "[encoded data removed]",
            "text/plain": [
              "<Figure size 720x288 with 1 Axes>"
            ]
          },
          "metadata": {
            "tags": [],
            "needs_background": "light"
          }
        }
      ]
    },
    {
      "cell_type": "markdown",
      "metadata": {
        "id": "7gNtGc8E5cC1"
      },
      "source": [
        "### **Plotting LCS Curve**"
      ]
    },
    {
      "cell_type": "code",
      "metadata": {
        "id": "e2OxxMKv5cl0"
      },
      "source": [
        "def plot(x, y, plot_title):\n",
        "    plt.figure(figsize=(10, 4))\n",
        "    plt.plot(x, y, label='Data',color='grey')\n",
        "    plt.xlabel('no. of strings')\n",
        "    plt.ylabel('length')\n",
        "    plt.title(plot_title)   \n",
        "    plt.show()\n",
        "    \n",
        "\n",
        "def makePlot(file_dir, plot_title):\n",
        "    col_list = [\"num_of_strings\", \"lcs_length\"]\n",
        "    df = pd.read_csv(file_dir, usecols = col_list)\n",
        "    print(df.head())\n",
        "    plot(df['num_of_strings'], df['lcs_length'], plot_title)"
      ],
      "execution_count": null,
      "outputs": []
    },
    {
      "cell_type": "markdown",
      "metadata": {
        "id": "nN9rEUfFv47G"
      },
      "source": [
        "**1. LCS Legitimate User**"
      ]
    },
    {
      "cell_type": "code",
      "metadata": {
        "colab": {
          "base_uri": "https://localhost:8080/",
          "height": 396
        },
        "id": "aa3UT7Qdv1g3",
        "outputId": "884e1bb3-de2e-4051-b174-5fa0fa095f9d"
      },
      "source": [
        "makePlot(\"/content/drive/MyDrive/Projects/datasets_full.csv/dataset/lcs/user_b3_lcs.csv\", \"Legitimate User B3 Type LCS Plot\")"
      ],
      "execution_count": null,
      "outputs": [
        {
          "output_type": "stream",
          "text": [
            "   num_of_strings  lcs_length\n",
            "0               2          17\n",
            "1               3          16\n",
            "2               4          16\n",
            "3               5          16\n",
            "4               6          16\n"
          ],
          "name": "stdout"
        },
        {
          "output_type": "display_data",
          "data": {
            "image/png": "[encoded data removed]",
            "text/plain": [
              "<Figure size 720x288 with 1 Axes>"
            ]
          },
          "metadata": {
            "tags": [],
            "needs_background": "light"
          }
        }
      ]
    },
    {
      "cell_type": "code",
      "metadata": {
        "colab": {
          "base_uri": "https://localhost:8080/",
          "height": 396
        },
        "id": "uOE9jpSWwBAy",
        "outputId": "48cc6969-20a0-483d-87d8-90d80259d8bd"
      },
      "source": [
        "makePlot(\"/content/drive/MyDrive/Projects/datasets_full.csv/dataset/lcs/user_content_b3_lcs.csv\", \"Legitimate User B3 Content LCS Plot\")"
      ],
      "execution_count": null,
      "outputs": [
        {
          "output_type": "stream",
          "text": [
            "   num_of_strings  lcs_length\n",
            "0               2           4\n",
            "1               3           2\n",
            "2               4           2\n",
            "3               5           1\n",
            "4               6           1\n"
          ],
          "name": "stdout"
        },
        {
          "output_type": "display_data",
          "data": {
            "image/png": "[encoded data removed]",
            "text/plain": [
              "<Figure size 720x288 with 1 Axes>"
            ]
          },
          "metadata": {
            "tags": [],
            "needs_background": "light"
          }
        }
      ]
    },
    {
      "cell_type": "code",
      "metadata": {
        "colab": {
          "base_uri": "https://localhost:8080/",
          "height": 396
        },
        "id": "RYL9cEJKwDcA",
        "outputId": "e48df2a2-8ece-4db4-dcf1-b4389bb2bfff"
      },
      "source": [
        "makePlot(\"/content/drive/MyDrive/Projects/datasets_full.csv/dataset/lcs/user_content_b6_lcs.csv\", \"Legitimate User B6 Content LCS Plot\")"
      ],
      "execution_count": null,
      "outputs": [
        {
          "output_type": "stream",
          "text": [
            "   num_of_strings  lcs_length\n",
            "0               2           4\n",
            "1               3           2\n",
            "2               4           2\n",
            "3               5           1\n",
            "4               6           1\n"
          ],
          "name": "stdout"
        },
        {
          "output_type": "display_data",
          "data": {
            "image/png": "[encoded data removed]",
            "text/plain": [
              "<Figure size 720x288 with 1 Axes>"
            ]
          },
          "metadata": {
            "tags": [],
            "needs_background": "light"
          }
        }
      ]
    },
    {
      "cell_type": "markdown",
      "metadata": {
        "id": "gEbZEoYNxmrQ"
      },
      "source": [
        "**2. Bot User Group 1**"
      ]
    },
    {
      "cell_type": "code",
      "metadata": {
        "colab": {
          "base_uri": "https://localhost:8080/",
          "height": 396
        },
        "id": "utiEbSnKxpuf",
        "outputId": "ebb22c5c-b783-4525-fda0-d7849c0224b3"
      },
      "source": [
        "makePlot(\"/content/drive/MyDrive/Projects/datasets_full.csv/dataset/lcs/bot1_b3_lcs.csv\", \"Bot1 B3 Type LCS Plot\")"
      ],
      "execution_count": null,
      "outputs": [
        {
          "output_type": "stream",
          "text": [
            "   num_of_strings  lcs_length\n",
            "0               2         477\n",
            "1               3         477\n",
            "2               4         477\n",
            "3               5         477\n",
            "4               6         477\n"
          ],
          "name": "stdout"
        },
        {
          "output_type": "display_data",
          "data": {
            "image/png": "[encoded data removed]",
            "text/plain": [
              "<Figure size 720x288 with 1 Axes>"
            ]
          },
          "metadata": {
            "tags": [],
            "needs_background": "light"
          }
        }
      ]
    },
    {
      "cell_type": "code",
      "metadata": {
        "colab": {
          "base_uri": "https://localhost:8080/",
          "height": 396
        },
        "id": "N9RdYKh-x10P",
        "outputId": "673374ca-1c36-40bf-ee87-ce81e50d9a29"
      },
      "source": [
        "makePlot(\"/content/drive/MyDrive/Projects/datasets_full.csv/dataset/lcs/bot1_content_b3_lcs.csv\", \"Bot1 B3 Content LCS Plot\")"
      ],
      "execution_count": null,
      "outputs": [
        {
          "output_type": "stream",
          "text": [
            "   num_of_strings  lcs_length\n",
            "0               2          94\n",
            "1               3          76\n",
            "2               4           2\n",
            "3               5           2\n",
            "4               6           2\n"
          ],
          "name": "stdout"
        },
        {
          "output_type": "display_data",
          "data": {
            "image/png": "[encoded data removed]",
            "text/plain": [
              "<Figure size 720x288 with 1 Axes>"
            ]
          },
          "metadata": {
            "tags": [],
            "needs_background": "light"
          }
        }
      ]
    },
    {
      "cell_type": "code",
      "metadata": {
        "colab": {
          "base_uri": "https://localhost:8080/",
          "height": 396
        },
        "id": "qMl_TQaYx32D",
        "outputId": "606ae1da-fd2a-47b9-99d0-bbad11c89bac"
      },
      "source": [
        "makePlot(\"/content/drive/MyDrive/Projects/datasets_full.csv/dataset/lcs/bot1_content_b6_lcs.csv\", \"Bot1 B6 Content LCS Plot\")"
      ],
      "execution_count": null,
      "outputs": [
        {
          "output_type": "stream",
          "text": [
            "   num_of_strings  lcs_length\n",
            "0               2          94\n",
            "1               3          73\n",
            "2               4           1\n",
            "3               5           1\n",
            "4               6           1\n"
          ],
          "name": "stdout"
        },
        {
          "output_type": "display_data",
          "data": {
            "image/png": "[encoded data removed]",
            "text/plain": [
              "<Figure size 720x288 with 1 Axes>"
            ]
          },
          "metadata": {
            "tags": [],
            "needs_background": "light"
          }
        }
      ]
    },
    {
      "cell_type": "markdown",
      "metadata": {
        "id": "Rht_DuB8yDKQ"
      },
      "source": [
        "**3. Bot User Group 2**"
      ]
    },
    {
      "cell_type": "code",
      "metadata": {
        "colab": {
          "base_uri": "https://localhost:8080/",
          "height": 396
        },
        "id": "tt6wV1hUyDsJ",
        "outputId": "74292565-1ccf-403c-f7b5-c32b44c1e606"
      },
      "source": [
        "makePlot(\"/content/drive/MyDrive/Projects/datasets_full.csv/dataset/lcs/bot2_b3_lcs.csv\", \"Bot2 B3 Type LCS Plot\")"
      ],
      "execution_count": null,
      "outputs": [
        {
          "output_type": "stream",
          "text": [
            "   num_of_strings  lcs_length\n",
            "0               2         135\n",
            "1               3          36\n",
            "2               4          16\n",
            "3               5          14\n",
            "4               6          14\n"
          ],
          "name": "stdout"
        },
        {
          "output_type": "display_data",
          "data": {
            "image/png": "[encoded data removed]",
            "text/plain": [
              "<Figure size 720x288 with 1 Axes>"
            ]
          },
          "metadata": {
            "tags": [],
            "needs_background": "light"
          }
        }
      ]
    },
    {
      "cell_type": "code",
      "metadata": {
        "colab": {
          "base_uri": "https://localhost:8080/",
          "height": 396
        },
        "id": "Z68J7XB5yOks",
        "outputId": "01133a03-6c40-446d-f2fd-2e44664d0579"
      },
      "source": [
        "makePlot(\"/content/drive/MyDrive/Projects/datasets_full.csv/dataset/lcs/bot2_content_b3_lcs.csv\", \"Bot2 B3 Content LCS Plot\")"
      ],
      "execution_count": null,
      "outputs": [
        {
          "output_type": "stream",
          "text": [
            "   num_of_strings  lcs_length\n",
            "0               2          23\n",
            "1               3          14\n",
            "2               4          14\n",
            "3               5          14\n",
            "4               6           2\n"
          ],
          "name": "stdout"
        },
        {
          "output_type": "display_data",
          "data": {
            "image/png": "[encoded data removed]",
            "text/plain": [
              "<Figure size 720x288 with 1 Axes>"
            ]
          },
          "metadata": {
            "tags": [],
            "needs_background": "light"
          }
        }
      ]
    },
    {
      "cell_type": "code",
      "metadata": {
        "colab": {
          "base_uri": "https://localhost:8080/",
          "height": 396
        },
        "id": "m3YFNirhyRCV",
        "outputId": "7367d2e4-caac-4883-8729-8bbea2288762"
      },
      "source": [
        "makePlot(\"/content/drive/MyDrive/Projects/datasets_full.csv/dataset/lcs/bot2_content_b6_lcs.csv\", \"Bot2 B6 Content LCS Plot\")"
      ],
      "execution_count": null,
      "outputs": [
        {
          "output_type": "stream",
          "text": [
            "   num_of_strings  lcs_length\n",
            "0               2          22\n",
            "1               3           1\n",
            "2               4           1\n",
            "3               5           1\n",
            "4               6           1\n"
          ],
          "name": "stdout"
        },
        {
          "output_type": "display_data",
          "data": {
            "image/png": "[encoded data removed]",
            "text/plain": [
              "<Figure size 720x288 with 1 Axes>"
            ]
          },
          "metadata": {
            "tags": [],
            "needs_background": "light"
          }
        }
      ]
    },
    {
      "cell_type": "markdown",
      "metadata": {
        "id": "DJ-QTKluySnp"
      },
      "source": [
        "**4. Bot User Group 3**"
      ]
    },
    {
      "cell_type": "code",
      "metadata": {
        "colab": {
          "base_uri": "https://localhost:8080/",
          "height": 396
        },
        "id": "nmNqxOQsyWDe",
        "outputId": "e0230bac-8a2f-44bf-c59b-f397bdd6a975"
      },
      "source": [
        "makePlot(\"/content/drive/MyDrive/Projects/datasets_full.csv/dataset/lcs/bot3_b3_lcs.csv\", \"Bot3 B3 Type lCS Plot\")"
      ],
      "execution_count": null,
      "outputs": [
        {
          "output_type": "stream",
          "text": [
            "   num_of_strings  lcs_length\n",
            "0               2        3250\n",
            "1               3        3250\n",
            "2               4        3250\n",
            "3               5        3250\n",
            "4               6        3250\n"
          ],
          "name": "stdout"
        },
        {
          "output_type": "display_data",
          "data": {
            "image/png": "[encoded data removed]",
            "text/plain": [
              "<Figure size 720x288 with 1 Axes>"
            ]
          },
          "metadata": {
            "tags": [],
            "needs_background": "light"
          }
        }
      ]
    },
    {
      "cell_type": "code",
      "metadata": {
        "colab": {
          "base_uri": "https://localhost:8080/",
          "height": 396
        },
        "id": "PUS3VIqQyaNf",
        "outputId": "215a8140-dfb7-4fba-d901-c3e9b56e1560"
      },
      "source": [
        "makePlot(\"/content/drive/MyDrive/Projects/datasets_full.csv/dataset/lcs/bot3_content_b3_lcs.csv\", \"Bot3 B3 Content LCS Plot\")"
      ],
      "execution_count": null,
      "outputs": [
        {
          "output_type": "stream",
          "text": [
            "   num_of_strings  lcs_length\n",
            "0               2          21\n",
            "1               3          17\n",
            "2               4          16\n",
            "3               5          12\n",
            "4               6          11\n"
          ],
          "name": "stdout"
        },
        {
          "output_type": "display_data",
          "data": {
            "image/png": "[encoded data removed]",
            "text/plain": [
              "<Figure size 720x288 with 1 Axes>"
            ]
          },
          "metadata": {
            "tags": [],
            "needs_background": "light"
          }
        }
      ]
    },
    {
      "cell_type": "code",
      "metadata": {
        "colab": {
          "base_uri": "https://localhost:8080/",
          "height": 396
        },
        "id": "IliwTlWLycMK",
        "outputId": "505b4df3-e114-40a6-c77e-6f7bbd3c3514"
      },
      "source": [
        "makePlot(\"/content/drive/MyDrive/Projects/datasets_full.csv/dataset/lcs/bot3_content_b6_lcs.csv\", \"Bot3 B6 Content LCS Plot\")"
      ],
      "execution_count": null,
      "outputs": [
        {
          "output_type": "stream",
          "text": [
            "   num_of_strings  lcs_length\n",
            "0               2          21\n",
            "1               3          17\n",
            "2               4          16\n",
            "3               5          12\n",
            "4               6          11\n"
          ],
          "name": "stdout"
        },
        {
          "output_type": "display_data",
          "data": {
            "image/png": "[encoded data removed]",
            "text/plain": [
              "<Figure size 720x288 with 1 Axes>"
            ]
          },
          "metadata": {
            "tags": [],
            "needs_background": "light"
          }
        }
      ]
    },
    {
      "cell_type": "markdown",
      "metadata": {
        "id": "a6QgqjFY_Nfq"
      },
      "source": [
        "### **Calculating AUC**"
      ]
    },
    {
      "cell_type": "code",
      "metadata": {
        "id": "NymcU7tU_SgO"
      },
      "source": [
        "def calculate_auc(x_range, a, b, c):\n",
        "    t1 = x_range[0]\n",
        "    t2 = x_range[len(x_range)-1]\n",
        "    print(\"t1 = \",t1)\n",
        "    print(\"t2 = \",t2)\n",
        "    auc = (a/(1-b)) * (pow(t2, 1-b) - pow(t1, 1-b)) + c * (t2 - t1)\n",
        "    return auc"
      ],
      "execution_count": null,
      "outputs": []
    },
    {
      "cell_type": "markdown",
      "metadata": {
        "id": "LH8EEYKHK1Dz"
      },
      "source": [
        "**1. Bot User Group 1**"
      ]
    },
    {
      "cell_type": "code",
      "metadata": {
        "colab": {
          "base_uri": "https://localhost:8080/"
        },
        "id": "DD3UuNByJOdY",
        "outputId": "c6a7a7b4-2461-451f-e3cd-18e5784af19f"
      },
      "source": [
        "# bot1 b3 LCSs\n",
        "col_list = ['num_of_strings']\n",
        "source_file_path = \"/content/drive/MyDrive/Projects/datasets_full.csv/dataset/lcs/bot1_b3_lcs.csv\"\n",
        "df = pd.read_csv(source_file_path, usecols = col_list)\n",
        "x_range = df['num_of_strings']\n",
        "\n",
        "a = 1.26673412*1000\n",
        "b = 9.10666138/10\n",
        "c = -2.89101426\n",
        "\n",
        "bot1_b3_lcs_auc = calculate_auc(x_range, a,b,c)"
      ],
      "execution_count": null,
      "outputs": [
        {
          "output_type": "stream",
          "text": [
            "t1 =  2\n",
            "t2 =  991\n"
          ],
          "name": "stdout"
        }
      ]
    },
    {
      "cell_type": "code",
      "metadata": {
        "colab": {
          "base_uri": "https://localhost:8080/"
        },
        "id": "O2UpZirDJT7X",
        "outputId": "0bc6b07b-da06-4d1f-e16c-d55b23e2d41f"
      },
      "source": [
        "# bot1_content_b3_lcs\n",
        "col_list = ['num_of_strings']\n",
        "source_file_path = \"/content/drive/MyDrive/Projects/datasets_full.csv/dataset/lcs/bot1_content_b3_lcs.csv\"\n",
        "df = pd.read_csv(source_file_path, usecols = col_list)\n",
        "x_range = df['num_of_strings']\n",
        "\n",
        "a = 477.33106927\n",
        "b = 2.25318785\n",
        "c = 0.98916567\n",
        "\n",
        "bot1_content_b3_lcs_auc = calculate_auc(x_range, a,b,c)"
      ],
      "execution_count": null,
      "outputs": [
        {
          "output_type": "stream",
          "text": [
            "t1 =  2\n",
            "t2 =  991\n"
          ],
          "name": "stdout"
        }
      ]
    },
    {
      "cell_type": "code",
      "metadata": {
        "colab": {
          "base_uri": "https://localhost:8080/"
        },
        "id": "z1F2xAqyJrL-",
        "outputId": "b177544a-f823-4208-df42-137e95e4919c"
      },
      "source": [
        "#bot1_content_b6_lcs\n",
        "col_list = ['num_of_strings']\n",
        "source_file_path = \"/content/drive/MyDrive/Projects/datasets_full.csv/dataset/lcs/bot1_content_b6_lcs.csv\"\n",
        "df = pd.read_csv(source_file_path, usecols = col_list)\n",
        "x_range = df['num_of_strings']\n",
        "\n",
        "a = 2.36681544*100\n",
        "b = 9.11458069*10\n",
        "c = 2.14141497/10\n",
        "\n",
        "bot1_content_b6_lcs_auc = calculate_auc(x_range, a,b,c)"
      ],
      "execution_count": null,
      "outputs": [
        {
          "output_type": "stream",
          "text": [
            "t1 =  2\n",
            "t2 =  991\n"
          ],
          "name": "stdout"
        }
      ]
    },
    {
      "cell_type": "markdown",
      "metadata": {
        "id": "w_hmBlPTK6f8"
      },
      "source": [
        "**2. Bot User Group 2**"
      ]
    },
    {
      "cell_type": "code",
      "metadata": {
        "colab": {
          "base_uri": "https://localhost:8080/"
        },
        "id": "I9L-jCZ1JyRX",
        "outputId": "ab409e52-e14b-4861-c0d6-291c0f84c189"
      },
      "source": [
        "#bot2_b3_lcs\n",
        "col_list = ['num_of_strings']\n",
        "source_file_path = \"/content/drive/MyDrive/Projects/datasets_full.csv/dataset/lcs/bot2_b3_lcs.csv\"\n",
        "df = pd.read_csv(source_file_path, usecols = col_list)\n",
        "x_range = df['num_of_strings']\n",
        "\n",
        "a = 252.35969492\n",
        "b = 80.3845435\n",
        "c = 2.72222221\n",
        "\n",
        "bot2_b3_lcs_auc = calculate_auc(x_range, a,b,c)\n",
        "\n",
        "\n",
        "#bot2_content_b3_lcs\n",
        "col_list = ['num_of_strings']\n",
        "source_file_path = \"/content/drive/MyDrive/Projects/datasets_full.csv/dataset/lcs/bot2_content_b3_lcs.csv\"\n",
        "df = pd.read_csv(source_file_path, usecols = col_list)\n",
        "x_range = df['num_of_strings']\n",
        "\n",
        "a = 40.25927765\n",
        "b = 1.02371112\n",
        "c = 1.06153093\n",
        "\n",
        "bot2_content_b3_lcs_auc = calculate_auc(x_range, a,b,c)\n",
        "\n",
        "\n",
        "#bot2_content_b6_lcs\n",
        "col_list = ['num_of_strings']\n",
        "source_file_path = \"/content/drive/MyDrive/Projects/datasets_full.csv/dataset/lcs/bot2_content_b6_lcs.csv\"\n",
        "df = pd.read_csv(source_file_path, usecols = col_list)\n",
        "x_range = df['num_of_strings']\n",
        "\n",
        "a = 2.83572771*1000\n",
        "b = 7.01078904\n",
        "c = 3.04038695/1000\n",
        "\n",
        "bot2_content_b6_lcs_auc = calculate_auc(x_range, a,b,c)\n"
      ],
      "execution_count": null,
      "outputs": [
        {
          "output_type": "stream",
          "text": [
            "t1 =  2\n",
            "t2 =  3457\n",
            "t1 =  2\n",
            "t2 =  3457\n",
            "t1 =  2\n",
            "t2 =  3457\n"
          ],
          "name": "stdout"
        }
      ]
    },
    {
      "cell_type": "markdown",
      "metadata": {
        "id": "ptam8B8kK_UO"
      },
      "source": [
        "**3. Bot User Group 3**"
      ]
    },
    {
      "cell_type": "code",
      "metadata": {
        "colab": {
          "base_uri": "https://localhost:8080/"
        },
        "id": "jxixMlV_KE6X",
        "outputId": "fdd2d83f-6799-4c14-cfe0-3e993e12bb4a"
      },
      "source": [
        "#bot3_b3_lcs\n",
        "col_list = ['num_of_strings']\n",
        "source_file_path = \"/content/drive/MyDrive/Projects/datasets_full.csv/dataset/lcs/bot3_b3_lcs.csv\"\n",
        "df = pd.read_csv(source_file_path, usecols = col_list)\n",
        "x_range = df['num_of_strings']\n",
        "\n",
        "a = 8.68028893*1000\n",
        "b = 3.35658518/10\n",
        "c = -1.34485178*1000\n",
        "\n",
        "bot3_b3_lcs_auc = calculate_auc(x_range, a,b,c)\n",
        "\n",
        "\n",
        "#bot3_content_b3_lcs\n",
        "col_list = ['num_of_strings']\n",
        "source_file_path = \"/content/drive/MyDrive/Projects/datasets_full.csv/dataset/lcs/bot3_content_b3_lcs.csv\"\n",
        "df = pd.read_csv(source_file_path, usecols = col_list)\n",
        "x_range = df['num_of_strings']\n",
        "\n",
        "a = 34.90371667\n",
        "b = 0.31338239\n",
        "c = -5.93285711\n",
        "\n",
        "bot3_content_b3_lcs_auc = calculate_auc(x_range, a,b,c)\n",
        "\n",
        "\n",
        "#bot3_content_b6_lcs\n",
        "col_list = ['num_of_strings']\n",
        "source_file_path = \"/content/drive/MyDrive/Projects/datasets_full.csv/dataset/lcs/bot3_content_b6_lcs.csv\"\n",
        "df = pd.read_csv(source_file_path, usecols = col_list)\n",
        "x_range = df['num_of_strings']\n",
        "\n",
        "a = 34.90371667\n",
        "b = 0.31338239\n",
        "c = -5.93285711\n",
        "\n",
        "bot3_content_b6_lcs_auc = calculate_auc(x_range, a,b,c)\n"
      ],
      "execution_count": null,
      "outputs": [
        {
          "output_type": "stream",
          "text": [
            "t1 =  2\n",
            "t2 =  464\n",
            "t1 =  2\n",
            "t2 =  464\n",
            "t1 =  2\n",
            "t2 =  464\n"
          ],
          "name": "stdout"
        }
      ]
    },
    {
      "cell_type": "markdown",
      "metadata": {
        "id": "UarbXxh2LDSq"
      },
      "source": [
        "**4. Legitimate User**"
      ]
    },
    {
      "cell_type": "code",
      "metadata": {
        "colab": {
          "base_uri": "https://localhost:8080/"
        },
        "id": "z4UeiijaKVRS",
        "outputId": "954806b5-2814-4566-ad58-e8361eb6e0d9"
      },
      "source": [
        "#user_b3_lcs\n",
        "col_list = ['num_of_strings']\n",
        "source_file_path = \"/content/drive/MyDrive/Projects/datasets_full.csv/dataset/lcs/user_b3_lcs.csv\"\n",
        "df = pd.read_csv(source_file_path, usecols = col_list)\n",
        "x_range = df['num_of_strings']\n",
        "\n",
        "a = 30.58216252\n",
        "b = 0.58492169\n",
        "c = 1.35090249\n",
        "\n",
        "user_b3_lcs_auc = calculate_auc(x_range, a,b,c)\n",
        "\n",
        "\n",
        "#user_content_b3_lcs\n",
        "col_list = ['num_of_strings']\n",
        "source_file_path = \"/content/drive/MyDrive/Projects/datasets_full.csv/dataset/lcs/user_content_b3_lcs.csv\"\n",
        "df = pd.read_csv(source_file_path, usecols = col_list)\n",
        "x_range = df['num_of_strings']\n",
        "\n",
        "a = 6.66004816\n",
        "b = 0.83897044\n",
        "c = -0.01912371\n",
        "\n",
        "user_content_b3_lcs_auc = calculate_auc(x_range, a,b,c)\n",
        "\n",
        "\n",
        "#user_content_b6_lcs\n",
        "col_list = ['num_of_strings']\n",
        "source_file_path = \"/content/drive/MyDrive/Projects/datasets_full.csv/dataset/lcs/user_content_b6_lcs.csv\"\n",
        "df = pd.read_csv(source_file_path, usecols = col_list)\n",
        "x_range = df['num_of_strings']\n",
        "\n",
        "a = 6.66004816\n",
        "b = 0.83897044\n",
        "c = -0.01912371\n",
        "\n",
        "user_content_b6_lcs_auc = calculate_auc(x_range, a,b,c)"
      ],
      "execution_count": null,
      "outputs": [
        {
          "output_type": "stream",
          "text": [
            "t1 =  2\n",
            "t2 =  3418\n",
            "t1 =  2\n",
            "t2 =  3479\n",
            "t1 =  2\n",
            "t2 =  3479\n"
          ],
          "name": "stdout"
        }
      ]
    },
    {
      "cell_type": "markdown",
      "metadata": {
        "id": "9XvusyfTLIo3"
      },
      "source": [
        "###**Average AUC**"
      ]
    },
    {
      "cell_type": "code",
      "metadata": {
        "colab": {
          "base_uri": "https://localhost:8080/"
        },
        "id": "YQ9pMR6QKkiI",
        "outputId": "ce6c289c-7212-48dc-e5ec-f98596a2e0d4"
      },
      "source": [
        "print('Type B3 Bot1',bot1_b3_lcs_auc)\n",
        "print('Type B3 Bot2',bot2_b3_lcs_auc)\n",
        "print('Type B3 Bot3',bot3_b3_lcs_auc)\n",
        "print('Type B3 User',user_b3_lcs_auc)\n",
        "\n",
        "print('Content B3 Bot1',bot1_content_b3_lcs_auc)\n",
        "print('Content B3 Bot2',bot2_content_b3_lcs_auc)\n",
        "print('Content B3 Bot3',bot3_content_b3_lcs_auc)\n",
        "print('Content B3 User',user_content_b3_lcs_auc)\n",
        "\n",
        "print('Content B6 Bot1',bot1_content_b6_lcs_auc)\n",
        "print('Content B6 Bot2',bot2_content_b6_lcs_auc)\n",
        "print('Content B6 Bot3',bot3_content_b6_lcs_auc)\n",
        "print('Content B6 User',user_content_b6_lcs_auc)\n",
        "\n",
        "avg_bot1_auc = (bot1_b3_lcs_auc + bot1_content_b3_lcs_auc + bot1_content_b6_lcs_auc)/3\n",
        "avg_bot2_auc = (bot2_b3_lcs_auc + bot2_content_b3_lcs_auc + bot2_content_b6_lcs_auc)/3\n",
        "avg_bot3_auc = (bot3_b3_lcs_auc + bot3_content_b3_lcs_auc + bot3_content_b6_lcs_auc)/3\n",
        "avg_user_auc = (user_b3_lcs_auc + user_content_b3_lcs_auc + user_content_b6_lcs_auc)/3\n",
        "\n",
        "print('Avg Bot1',avg_bot1_auc)\n",
        "print('Avg Bot2',avg_bot2_auc)\n",
        "print('Avg Bot3',avg_bot3_auc)\n",
        "print('User',avg_user_auc)"
      ],
      "execution_count": null,
      "outputs": [
        {
          "output_type": "stream",
          "text": [
            "Type B3 Bot1 8316.76358488591\n",
            "Type B3 Bot2 9405.27773555\n",
            "Type B3 Bot3 129978.02972955676\n",
            "Type B3 User 6674.834538264662\n",
            "Content B3 Bot1 1138.010335588981\n",
            "Content B3 Bot2 3938.207749136785\n",
            "Content B3 Bot3 620.9782983987793\n",
            "Content B3 User 41.0263719810484\n",
            "Content B6 Bot1 211.785940533\n",
            "Content B6 Bot2 17.82106834183358\n",
            "Content B6 Bot3 620.9782983987793\n",
            "Content B6 User 41.0263719810484\n",
            "Avg Bot1 3222.1866203359637\n",
            "Avg Bot2 4453.7688510095395\n",
            "Avg Bot3 43739.99544211811\n",
            "User 2252.2957607422527\n"
          ],
          "name": "stdout"
        }
      ]
    },
    {
      "cell_type": "markdown",
      "metadata": {
        "id": "KdKGA1PphE8p"
      },
      "source": [
        "### **Observing Follower Frequecy**"
      ]
    },
    {
      "cell_type": "code",
      "metadata": {
        "colab": {
          "base_uri": "https://localhost:8080/",
          "height": 312
        },
        "id": "xNaID5aDtc0Q",
        "outputId": "b3d139ef-f692-48e8-d1b6-6194761fe3bc"
      },
      "source": [
        "df = pd.read_csv(\"/content/drive/MyDrive/Projects/datasets_full.csv/genuine_accounts.csv/users.csv\", usecols=['id','followers_count'])\n",
        "max_len = len(df)\n",
        "range_max = max_len+200\n",
        "range = (0, range_max)\n",
        "bins = 10\n",
        "plt.figure(figsize=[10,4])\n",
        "plt.hist(df['followers_count'], bins, range, color = 'yellowgreen', histtype = 'bar', rwidth = 0.8)\n",
        "plt.xlabel('Followers')\n",
        "plt.xticks(np.arange(0, 4000, step=200))\n",
        "plt.ylabel('Accounts')\n",
        "plt.title(\"Legitimate Follower Frequency\")"
      ],
      "execution_count": null,
      "outputs": [
        {
          "output_type": "execute_result",
          "data": {
            "text/plain": [
              "Text(0.5, 1.0, 'Legitimate Follower Frequency')"
            ]
          },
          "metadata": {
            "tags": []
          },
          "execution_count": 64
        },
        {
          "output_type": "display_data",
          "data": {
            "image/png": "[encoded data removed]",
            "text/plain": [
              "<Figure size 720x288 with 1 Axes>"
            ]
          },
          "metadata": {
            "tags": [],
            "needs_background": "light"
          }
        }
      ]
    },
    {
      "cell_type": "code",
      "metadata": {
        "colab": {
          "base_uri": "https://localhost:8080/",
          "height": 312
        },
        "id": "cp1UUFmNu6X1",
        "outputId": "e0d2af04-cbe1-434a-eb6c-80d8193617bf"
      },
      "source": [
        "df = pd.read_csv(\"/content/drive/MyDrive/Projects/datasets_full.csv/social_spambots_1.csv/users.csv\", usecols=['id','followers_count'])\n",
        "max_len = len(df)\n",
        "range_max = max_len+200\n",
        "range = (0, range_max)\n",
        "bins = 10\n",
        "plt.figure(figsize=[10,4])\n",
        "plt.hist(df['followers_count'], bins, range, color = 'indianred', histtype = 'bar', rwidth = 0.8)\n",
        "plt.xlabel('Followers')\n",
        "plt.xticks(np.arange(0, 4000, step=200))\n",
        "plt.ylabel('Accounts')\n",
        "plt.title(\"Bot User Group 1 Follower Frequency\")"
      ],
      "execution_count": null,
      "outputs": [
        {
          "output_type": "execute_result",
          "data": {
            "text/plain": [
              "Text(0.5, 1.0, 'Bot User Group 1 Follower Frequency')"
            ]
          },
          "metadata": {
            "tags": []
          },
          "execution_count": 65
        },
        {
          "output_type": "display_data",
          "data": {
            "image/png": "[encoded data removed]",
            "text/plain": [
              "<Figure size 720x288 with 1 Axes>"
            ]
          },
          "metadata": {
            "tags": [],
            "needs_background": "light"
          }
        }
      ]
    },
    {
      "cell_type": "code",
      "metadata": {
        "colab": {
          "base_uri": "https://localhost:8080/",
          "height": 312
        },
        "id": "mpYi68mnvOR2",
        "outputId": "1f66dea0-dfb5-4974-eb90-2921a7127eab"
      },
      "source": [
        "df = pd.read_csv(\"/content/drive/MyDrive/Projects/datasets_full.csv/social_spambots_2.csv/users.csv\", usecols=['id','followers_count'])\n",
        "max_len = len(df)\n",
        "range_max = max_len+200\n",
        "range = (0, range_max)\n",
        "bins = 10\n",
        "plt.figure(figsize=[10,4])\n",
        "plt.hist(df['followers_count'], bins, range, color = 'burlywood', histtype = 'bar', rwidth = 0.8)\n",
        "plt.xlabel('Followers')\n",
        "plt.xticks(np.arange(0, 4000, step=200))\n",
        "plt.ylabel('Accounts')\n",
        "plt.title(\"Bot User Group 2 Follower Frequency\")"
      ],
      "execution_count": null,
      "outputs": [
        {
          "output_type": "execute_result",
          "data": {
            "text/plain": [
              "Text(0.5, 1.0, 'Bot User Group 2 Follower Frequency')"
            ]
          },
          "metadata": {
            "tags": []
          },
          "execution_count": 66
        },
        {
          "output_type": "display_data",
          "data": {
            "image/png": "[encoded data removed]",
            "text/plain": [
              "<Figure size 720x288 with 1 Axes>"
            ]
          },
          "metadata": {
            "tags": [],
            "needs_background": "light"
          }
        }
      ]
    },
    {
      "cell_type": "code",
      "metadata": {
        "colab": {
          "base_uri": "https://localhost:8080/",
          "height": 312
        },
        "id": "NgX0ejtxvXVy",
        "outputId": "0bd0a5f3-5849-4c7c-ca58-bcd4bbfc5804"
      },
      "source": [
        "df = pd.read_csv(\"/content/drive/MyDrive/Projects/datasets_full.csv/social_spambots_3.csv/users.csv\", usecols=['id','followers_count'])\n",
        "max_len = len(df)\n",
        "range_max = max_len+200\n",
        "range = (0, range_max)\n",
        "bins = 10\n",
        "plt.figure(figsize=[10,4])\n",
        "plt.hist(df['followers_count'], bins, range, color = 'grey', histtype = 'bar', rwidth = 0.8)\n",
        "plt.xlabel('Followers')\n",
        "plt.xticks(np.arange(0, 4000, step=200))\n",
        "plt.ylabel('Accounts')\n",
        "plt.title(\"Bot User Group 3 Follower Frequency\")"
      ],
      "execution_count": null,
      "outputs": [
        {
          "output_type": "execute_result",
          "data": {
            "text/plain": [
              "Text(0.5, 1.0, 'Bot User Group 3 Follower Frequency')"
            ]
          },
          "metadata": {
            "tags": []
          },
          "execution_count": 67
        },
        {
          "output_type": "display_data",
          "data": {
            "image/png": "[encoded data removed]",
            "text/plain": [
              "<Figure size 720x288 with 1 Axes>"
            ]
          },
          "metadata": {
            "tags": [],
            "needs_background": "light"
          }
        }
      ]
    },
    {
      "cell_type": "markdown",
      "metadata": {
        "id": "JBditpw2yeiF"
      },
      "source": [
        "### **Observing Friend Frequecy**"
      ]
    },
    {
      "cell_type": "code",
      "metadata": {
        "colab": {
          "base_uri": "https://localhost:8080/",
          "height": 312
        },
        "id": "HjZ0U1tfyeiI",
        "outputId": "496fdbc2-1c3b-420b-c600-56f6c940e88e"
      },
      "source": [
        "df = pd.read_csv(\"/content/drive/MyDrive/Projects/datasets_full.csv/genuine_accounts.csv/users.csv\", usecols=['id','friends_count'])\n",
        "max_len = len(df)\n",
        "range_max = max_len+200\n",
        "range = (0, range_max)\n",
        "bins = 10\n",
        "plt.figure(figsize=[10,4])\n",
        "plt.hist(df['friends_count'], bins, range, color = 'yellowgreen', histtype = 'bar', rwidth = 0.8)\n",
        "plt.xlabel('Friends')\n",
        "plt.xticks(np.arange(0, 4000, step=200))\n",
        "plt.ylabel('Accounts')\n",
        "plt.title(\"Legitimate Friend Frequency\")"
      ],
      "execution_count": null,
      "outputs": [
        {
          "output_type": "execute_result",
          "data": {
            "text/plain": [
              "Text(0.5, 1.0, 'Legitimate Friend Frequency')"
            ]
          },
          "metadata": {
            "tags": []
          },
          "execution_count": 68
        },
        {
          "output_type": "display_data",
          "data": {
            "image/png": "[encoded data removed]",
            "text/plain": [
              "<Figure size 720x288 with 1 Axes>"
            ]
          },
          "metadata": {
            "tags": [],
            "needs_background": "light"
          }
        }
      ]
    },
    {
      "cell_type": "code",
      "metadata": {
        "colab": {
          "base_uri": "https://localhost:8080/",
          "height": 312
        },
        "id": "vByQrQQ1yeiI",
        "outputId": "8eaf5e5c-f839-430f-90e1-5123df862dd0"
      },
      "source": [
        "df = pd.read_csv(\"/content/drive/MyDrive/Projects/datasets_full.csv/social_spambots_1.csv/users.csv\", usecols=['id','friends_count'])\n",
        "max_len = len(df)\n",
        "range_max = max_len+200\n",
        "range = (0, range_max)\n",
        "bins = 10\n",
        "plt.figure(figsize=[10,4])\n",
        "plt.hist(df['friends_count'], bins, range, color = 'indianred', histtype = 'bar', rwidth = 0.8)\n",
        "plt.xlabel('Friends')\n",
        "plt.xticks(np.arange(0, 4000, step=200))\n",
        "plt.ylabel('Accounts')\n",
        "plt.title(\"Bot User Group 1 Friends Frequency\")"
      ],
      "execution_count": null,
      "outputs": [
        {
          "output_type": "execute_result",
          "data": {
            "text/plain": [
              "Text(0.5, 1.0, 'Bot User Group 1 Friends Frequency')"
            ]
          },
          "metadata": {
            "tags": []
          },
          "execution_count": 69
        },
        {
          "output_type": "display_data",
          "data": {
            "image/png": "[encoded data removed]",
            "text/plain": [
              "<Figure size 720x288 with 1 Axes>"
            ]
          },
          "metadata": {
            "tags": [],
            "needs_background": "light"
          }
        }
      ]
    },
    {
      "cell_type": "code",
      "metadata": {
        "colab": {
          "base_uri": "https://localhost:8080/",
          "height": 312
        },
        "id": "PH_i5OMtyeiJ",
        "outputId": "1efda626-bb7d-4f15-b68c-efbcd007bcbe"
      },
      "source": [
        "df = pd.read_csv(\"/content/drive/MyDrive/Projects/datasets_full.csv/social_spambots_2.csv/users.csv\", usecols=['id','friends_count'])\n",
        "max_len = len(df)\n",
        "range_max = max_len+200\n",
        "range = (0, range_max)\n",
        "bins = 10\n",
        "plt.figure(figsize=[10,4])\n",
        "plt.hist(df['friends_count'], bins, range, color = 'burlywood', histtype = 'bar', rwidth = 0.8)\n",
        "plt.xlabel('Friends')\n",
        "plt.xticks(np.arange(0, 4000, step=200))\n",
        "plt.ylabel('Accounts')\n",
        "plt.title(\"Bot User Group 2 Friends Frequency\")"
      ],
      "execution_count": null,
      "outputs": [
        {
          "output_type": "execute_result",
          "data": {
            "text/plain": [
              "Text(0.5, 1.0, 'Bot User Group 2 Friends Frequency')"
            ]
          },
          "metadata": {
            "tags": []
          },
          "execution_count": 70
        },
        {
          "output_type": "display_data",
          "data": {
            "image/png": "[encoded data removed]",
            "text/plain": [
              "<Figure size 720x288 with 1 Axes>"
            ]
          },
          "metadata": {
            "tags": [],
            "needs_background": "light"
          }
        }
      ]
    },
    {
      "cell_type": "code",
      "metadata": {
        "colab": {
          "base_uri": "https://localhost:8080/",
          "height": 312
        },
        "id": "W0b6z_n4yeiK",
        "outputId": "3aacce52-b7e7-4fd3-9829-d275114584fa"
      },
      "source": [
        "df = pd.read_csv(\"/content/drive/MyDrive/Projects/datasets_full.csv/social_spambots_3.csv/users.csv\", usecols=['id','friends_count'])\n",
        "max_len = len(df)\n",
        "range_max = max_len+200\n",
        "range = (0, range_max)\n",
        "bins = 10\n",
        "plt.figure(figsize=[10,4])\n",
        "plt.hist(df['friends_count'], bins, range, color = 'grey', histtype = 'bar', rwidth = 0.8)\n",
        "plt.xlabel('Friends')\n",
        "plt.xticks(np.arange(0, 4000, step=200))\n",
        "plt.ylabel('Accounts')\n",
        "plt.title(\"Bot User Group 3 Friends Frequency\")"
      ],
      "execution_count": null,
      "outputs": [
        {
          "output_type": "execute_result",
          "data": {
            "text/plain": [
              "Text(0.5, 1.0, 'Bot User Group 3 Friends Frequency')"
            ]
          },
          "metadata": {
            "tags": []
          },
          "execution_count": 71
        },
        {
          "output_type": "display_data",
          "data": {
            "image/png": "[encoded data removed]",
            "text/plain": [
              "<Figure size 720x288 with 1 Axes>"
            ]
          },
          "metadata": {
            "tags": [],
            "needs_background": "light"
          }
        }
      ]
    },
    {
      "cell_type": "markdown",
      "metadata": {
        "id": "wmplZRz2NkQ4"
      },
      "source": [
        "###**Done**."
      ]
    }
  ]
}